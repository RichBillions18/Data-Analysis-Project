{
 "cells": [
  {
   "cell_type": "markdown",
   "metadata": {},
   "source": [
    "这是两款键盘布局不一样的手机(A版本，B版本)，你作为公司的产品经理，想在正式发布产品之前知道，哪个键盘布局对用户体验更好呢？\n",
    "\n",
    "首先，我们需要设置目标，用来衡量各个版本的优劣，如果是电商网站，目标可以是点击率，注册率，页面停留时间等。\n",
    "\n",
    "在这个键盘布局案例里，如果一个键盘布局对用户打字时拼错产生的影响较小，那么这个布局是符合用户体验习惯的。所以我们将目标定为用户打字时拼错字产生的影响。\n",
    "\n",
    "有了目标以后，下一步就是采集数据。在这一部分，用户会随机分配到不同版本中，他们的交互行为会被直接检测，并收集起来作为以后分析的重要数据。\n",
    "\n",
    "我们随机抽取实验者，将实验者分成2组，每组25人，A组使用键盘布局A，B组使用键盘布局B。让他们在30秒内打出标准的20个单词文字消息，然后记录打错字的数量。\n",
    "\n",
    "我们将数据记录在Excel中，A列是使用键盘布局A打错字的数量，B列是使用键盘布局B打错字的数量。\n",
    "\n",
    "现在我们开始A/B测试"
   ]
  },
  {
   "cell_type": "markdown",
   "metadata": {},
   "source": [
    "# 描述统计分析"
   ]
  },
  {
   "cell_type": "markdown",
   "metadata": {},
   "source": [
    "我们开展调查研究并计算统计结果时，我们会在报告的第一部分进行描述统计分析，例如平均值和标准差。描述统计量是研究的核心。告诉我们研究中发生的情况，应该始终报告出来。"
   ]
  },
  {
   "cell_type": "code",
   "execution_count": 1,
   "metadata": {},
   "outputs": [],
   "source": [
    "# 导入包\n",
    "import pandas as pd\n",
    "import numpy as np\n",
    "import matplotlib.pyplot as plt"
   ]
  },
  {
   "cell_type": "code",
   "execution_count": 2,
   "metadata": {},
   "outputs": [
    {
     "data": {
      "text/html": [
       "<div>\n",
       "<style scoped>\n",
       "    .dataframe tbody tr th:only-of-type {\n",
       "        vertical-align: middle;\n",
       "    }\n",
       "\n",
       "    .dataframe tbody tr th {\n",
       "        vertical-align: top;\n",
       "    }\n",
       "\n",
       "    .dataframe thead th {\n",
       "        text-align: right;\n",
       "    }\n",
       "</style>\n",
       "<table border=\"1\" class=\"dataframe\">\n",
       "  <thead>\n",
       "    <tr style=\"text-align: right;\">\n",
       "      <th></th>\n",
       "      <th>A</th>\n",
       "      <th>B</th>\n",
       "    </tr>\n",
       "  </thead>\n",
       "  <tbody>\n",
       "    <tr>\n",
       "      <th>0</th>\n",
       "      <td>6</td>\n",
       "      <td>6</td>\n",
       "    </tr>\n",
       "    <tr>\n",
       "      <th>1</th>\n",
       "      <td>6</td>\n",
       "      <td>11</td>\n",
       "    </tr>\n",
       "    <tr>\n",
       "      <th>2</th>\n",
       "      <td>2</td>\n",
       "      <td>8</td>\n",
       "    </tr>\n",
       "    <tr>\n",
       "      <th>3</th>\n",
       "      <td>7</td>\n",
       "      <td>5</td>\n",
       "    </tr>\n",
       "    <tr>\n",
       "      <th>4</th>\n",
       "      <td>8</td>\n",
       "      <td>11</td>\n",
       "    </tr>\n",
       "  </tbody>\n",
       "</table>\n",
       "</div>"
      ],
      "text/plain": [
       "   A   B\n",
       "0  6   6\n",
       "1  6  11\n",
       "2  2   8\n",
       "3  7   5\n",
       "4  8  11"
      ]
     },
     "execution_count": 2,
     "metadata": {},
     "output_type": "execute_result"
    }
   ],
   "source": [
    "data = pd.read_excel('ABtest.xlsx', dtype='object')\n",
    "\n",
    "data.head()"
   ]
  },
  {
   "cell_type": "code",
   "execution_count": 3,
   "metadata": {},
   "outputs": [
    {
     "data": {
      "text/plain": [
       "A    object\n",
       "B    object\n",
       "dtype: object"
      ]
     },
     "execution_count": 3,
     "metadata": {},
     "output_type": "execute_result"
    }
   ],
   "source": [
    "# 查看每一列的数据类型\n",
    "data.dtypes"
   ]
  },
  {
   "cell_type": "code",
   "execution_count": 4,
   "metadata": {},
   "outputs": [
    {
     "name": "stdout",
     "output_type": "stream",
     "text": [
      "转换后的数据类型：\n",
      " A    int32\n",
      "B    int32\n",
      "dtype: object\n"
     ]
    }
   ],
   "source": [
    "# 字符串转换为数值（浮点型）\n",
    "data['A'] = data['A'].astype('int')\n",
    "data['B'] = data['B'].astype('int')\n",
    "print('转换后的数据类型：\\n', data.dtypes)"
   ]
  },
  {
   "cell_type": "code",
   "execution_count": 5,
   "metadata": {},
   "outputs": [
    {
     "data": {
      "text/html": [
       "<div>\n",
       "<style scoped>\n",
       "    .dataframe tbody tr th:only-of-type {\n",
       "        vertical-align: middle;\n",
       "    }\n",
       "\n",
       "    .dataframe tbody tr th {\n",
       "        vertical-align: top;\n",
       "    }\n",
       "\n",
       "    .dataframe thead th {\n",
       "        text-align: right;\n",
       "    }\n",
       "</style>\n",
       "<table border=\"1\" class=\"dataframe\">\n",
       "  <thead>\n",
       "    <tr style=\"text-align: right;\">\n",
       "      <th></th>\n",
       "      <th>A</th>\n",
       "      <th>B</th>\n",
       "    </tr>\n",
       "  </thead>\n",
       "  <tbody>\n",
       "    <tr>\n",
       "      <th>count</th>\n",
       "      <td>25.000000</td>\n",
       "      <td>25.000000</td>\n",
       "    </tr>\n",
       "    <tr>\n",
       "      <th>mean</th>\n",
       "      <td>5.080000</td>\n",
       "      <td>7.800000</td>\n",
       "    </tr>\n",
       "    <tr>\n",
       "      <th>std</th>\n",
       "      <td>2.059935</td>\n",
       "      <td>2.645751</td>\n",
       "    </tr>\n",
       "    <tr>\n",
       "      <th>min</th>\n",
       "      <td>2.000000</td>\n",
       "      <td>3.000000</td>\n",
       "    </tr>\n",
       "    <tr>\n",
       "      <th>25%</th>\n",
       "      <td>4.000000</td>\n",
       "      <td>6.000000</td>\n",
       "    </tr>\n",
       "    <tr>\n",
       "      <th>50%</th>\n",
       "      <td>5.000000</td>\n",
       "      <td>8.000000</td>\n",
       "    </tr>\n",
       "    <tr>\n",
       "      <th>75%</th>\n",
       "      <td>7.000000</td>\n",
       "      <td>10.000000</td>\n",
       "    </tr>\n",
       "    <tr>\n",
       "      <th>max</th>\n",
       "      <td>10.000000</td>\n",
       "      <td>13.000000</td>\n",
       "    </tr>\n",
       "  </tbody>\n",
       "</table>\n",
       "</div>"
      ],
      "text/plain": [
       "               A          B\n",
       "count  25.000000  25.000000\n",
       "mean    5.080000   7.800000\n",
       "std     2.059935   2.645751\n",
       "min     2.000000   3.000000\n",
       "25%     4.000000   6.000000\n",
       "50%     5.000000   8.000000\n",
       "75%     7.000000  10.000000\n",
       "max    10.000000  13.000000"
      ]
     },
     "execution_count": 5,
     "metadata": {},
     "output_type": "execute_result"
    }
   ],
   "source": [
    "# 描述统计信息\n",
    "data.describe()"
   ]
  },
  {
   "cell_type": "code",
   "execution_count": 6,
   "metadata": {},
   "outputs": [
    {
     "name": "stdout",
     "output_type": "stream",
     "text": [
      "A版本平均值 = 5.08 单位：打错字数量\n",
      "B版本平均值 = 7.8 单位：打错字数量\n",
      "A版本样本大小25，样本标准差 = 2.05993527406405 单位：打错字数量\n",
      "B版本样本大小25，样本标准差 = 2.6457513110645907 单位：打错字数量\n"
     ]
    }
   ],
   "source": [
    "# 样本平均值\n",
    "a_mean = data['A'].mean()\n",
    "b_mean = data['B'].mean()\n",
    "\n",
    "print('A版本平均值 =', a_mean, '单位：打错字数量')\n",
    "print('B版本平均值 =', b_mean, '单位：打错字数量')\n",
    "\n",
    "'''\n",
    "这里要区别：数据集的标准差和样本标准差\n",
    "数据集的标准差公式除以的是n，样本标准差公式除以的是n-1。\n",
    "样本标准差，用途是用样本标准差估计出总体标准差\n",
    "pandas计算的标准差，默认除以的是n-1，也就是计算出的是样本标准差\n",
    "'''\n",
    "# 样本标准差\n",
    "a_std = data['A'].std()\n",
    "b_std = data['B'].std()\n",
    "\n",
    "print('A版本样本大小25，样本标准差 =', a_std, '单位：打错字数量')\n",
    "print('B版本样本大小25，样本标准差 =', b_std, '单位：打错字数量')"
   ]
  },
  {
   "cell_type": "markdown",
   "metadata": {},
   "source": [
    "# 推论统计分析"
   ]
  },
  {
   "cell_type": "markdown",
   "metadata": {},
   "source": [
    "推论统计分析报告中包括：假设检验，置信区间，效应量"
   ]
  },
  {
   "cell_type": "markdown",
   "metadata": {},
   "source": [
    "## 假设检验"
   ]
  },
  {
   "cell_type": "markdown",
   "metadata": {},
   "source": [
    "### 问题是什么？"
   ]
  },
  {
   "cell_type": "markdown",
   "metadata": {},
   "source": [
    "#### 零假设和备选假设"
   ]
  },
  {
   "cell_type": "markdown",
   "metadata": {},
   "source": [
    "要研究的问题是：哪个键盘布局对用户体验更好呢？\n",
    "\n",
    "根据这个问题我提出来下面两个互为相反的假设。\n",
    "\n",
    "零假设：A版本和B版本没有差别，也就是A版本平均值 = B版本平均值。\n",
    "\n",
    "零假设总是表述为研究没有改变，没有效果，不起作用等，这里就是不满足标准。\n",
    "\n",
    "备选假设：A版本和B版本有差别，也就是A版本平均值不等于B版本平均值。"
   ]
  },
  {
   "cell_type": "markdown",
   "metadata": {},
   "source": [
    "#### 检验类型"
   ]
  },
  {
   "cell_type": "markdown",
   "metadata": {},
   "source": [
    "检验类型有很多种，因为这里有2组样本，是不同的人，所以选择独立双样本检验。"
   ]
  },
  {
   "cell_type": "markdown",
   "metadata": {},
   "source": [
    "#### 抽样分布类型"
   ]
  },
  {
   "cell_type": "markdown",
   "metadata": {},
   "source": [
    "我们还要判断抽样分布是哪种？因为抽样分布的类型，决定了后面计算p值的不同。\n",
    "\n",
    "在我们这个AB测试案例中，样本大小是25（小于30），属于小样本。那小样本的抽样分布是否满足t分布呢？因为t分布还要求总体分布近似正态分布，但是总体分布我们是不知道的，我们可以通过样本数据集的分布来推断总体分布。"
   ]
  },
  {
   "cell_type": "code",
   "execution_count": 7,
   "metadata": {},
   "outputs": [
    {
     "name": "stderr",
     "output_type": "stream",
     "text": [
      "C:\\Users\\Richard\\Anaconda3\\envs\\py3\\lib\\site-packages\\matplotlib\\axes\\_axes.py:6462: UserWarning: The 'normed' kwarg is deprecated, and has been replaced by the 'density' kwarg.\n",
      "  warnings.warn(\"The 'normed' kwarg is deprecated, and has been \"\n"
     ]
    },
    {
     "data": {
      "image/png": "[encoded data removed]",
      "text/plain": [
       "<Figure size 432x288 with 1 Axes>"
      ]
     },
     "metadata": {},
     "output_type": "display_data"
    },
    {
     "name": "stderr",
     "output_type": "stream",
     "text": [
      "C:\\Users\\Richard\\Anaconda3\\envs\\py3\\lib\\site-packages\\matplotlib\\axes\\_axes.py:6462: UserWarning: The 'normed' kwarg is deprecated, and has been replaced by the 'density' kwarg.\n",
      "  warnings.warn(\"The 'normed' kwarg is deprecated, and has been \"\n"
     ]
    },
    {
     "data": {
      "image/png": "[encoded data removed]",
      "text/plain": [
       "<Figure size 432x288 with 1 Axes>"
      ]
     },
     "metadata": {},
     "output_type": "display_data"
    }
   ],
   "source": [
    "import seaborn as sns\n",
    "\n",
    "# 查看数据集分布\n",
    "sns.distplot(data['A'])\n",
    "plt.title('A版本数据集分布')\n",
    "plt.show()\n",
    "\n",
    "sns.distplot(data['B'])\n",
    "plt.title('B版本数据集分布')\n",
    "plt.show()"
   ]
  },
  {
   "cell_type": "markdown",
   "metadata": {},
   "source": [
    "通过观察上面数据集分布图，两个样本数据集都近似正态分布，满足t分布的使用条件，所以抽样分布是t分布"
   ]
  },
  {
   "cell_type": "markdown",
   "metadata": {},
   "source": [
    "#### 检验方向"
   ]
  },
  {
   "cell_type": "markdown",
   "metadata": {},
   "source": [
    "单尾检验（左尾，右尾），还是双尾检验？"
   ]
  },
  {
   "cell_type": "markdown",
   "metadata": {
    "collapsed": true
   },
   "source": [
    "因为备选假设是A版本和B版本有差别，也就是A版本平均值不等于B版本平均值，所以我们使用双尾检验。"
   ]
  },
  {
   "cell_type": "markdown",
   "metadata": {},
   "source": [
    "#### 总结"
   ]
  },
  {
   "cell_type": "markdown",
   "metadata": {
    "collapsed": true
   },
   "source": [
    "综合以上分析，本次假设检验是双独立样本t检验，双尾检验。"
   ]
  },
  {
   "cell_type": "markdown",
   "metadata": {},
   "source": [
    "### 证据是什么？"
   ]
  },
  {
   "cell_type": "markdown",
   "metadata": {},
   "source": [
    "在零假设成立前提下，得到样本平均值的概率p是多少？\n",
    "\n",
    "独立双样本t检验，计算标准误差和自由度的公式想要深入了解的可以看这里： https://en.wikipedia.org/wiki/Student%27s_t-test#Independent_two-sample_t-test"
   ]
  },
  {
   "cell_type": "code",
   "execution_count": 9,
   "metadata": {},
   "outputs": [
    {
     "name": "stdout",
     "output_type": "stream",
     "text": [
      "t = -4.055938536857321 ，p_two = 0.00019457455307216094 ，df = 45.27813331135627\n"
     ]
    }
   ],
   "source": [
    "'''\n",
    "Scipy的双独立样本t检验不能返回自由度，对于后面计算置信区间不方便。所以我们使用另一个统计包（statsmodels）\n",
    "双独立（independent）样本t检验（ttest_ind）：statsmodels.stats.weightstats.ttest_ind\n",
    "官网使用文档 http://www.statsmodels.org/dev/generated/statsmodels.stats.weightstats.ttest_ind.html\n",
    "'''\n",
    "import statsmodels.stats.weightstats as st\n",
    "\n",
    "'''\n",
    "ttest_ind：独立双样本t检验，\n",
    "usevar='unequal'两个总体方差不一样\n",
    "返回的第1个值t是假设检验计算出的（t值），第2个p_two是双尾检验的p值，第3个df是独立双样本的自由度\n",
    "'''\n",
    "t,p_twoTail,df = st.ttest_ind(data['A'], data['B'],\n",
    "                          usevar='unequal')\n",
    "\n",
    "#自由度一般只保留整数部分\n",
    "print('t =', t, '，p_two =', p_twoTail, '，df =', df)"
   ]
  },
  {
   "cell_type": "markdown",
   "metadata": {},
   "source": [
    "### 判断标准是什么？"
   ]
  },
  {
   "cell_type": "code",
   "execution_count": 10,
   "metadata": {},
   "outputs": [],
   "source": [
    "# 判断标准（显著水平）使用 alpha = 5%\n",
    "alpha = 0.05"
   ]
  },
  {
   "cell_type": "markdown",
   "metadata": {},
   "source": [
    "### 做出结论"
   ]
  },
  {
   "cell_type": "code",
   "execution_count": 11,
   "metadata": {},
   "outputs": [
    {
     "name": "stdout",
     "output_type": "stream",
     "text": [
      "拒绝零假设，有统计显著，也就是接受备选假设\n",
      "备选假设：A版本和B版本有差异\n"
     ]
    }
   ],
   "source": [
    "'''\n",
    "双尾判断条件：p < 判断标准（显著水平）alpha/2 时，拒绝零假设，有统计显著，也就是有显著差异\n",
    "'''\n",
    "# 做出结论\n",
    "if(p_two < alpha / 2): \n",
    "    print('拒绝零假设，有统计显著，也就是接受备选假设')\n",
    "    print('备选假设：A版本和B版本有差异')\n",
    "else: \n",
    "    print('接受零假设，没有统计显著')\n",
    "    print('零假设：A版本和B版本没有差异')"
   ]
  },
  {
   "cell_type": "markdown",
   "metadata": {},
   "source": [
    "独立双样本t(45) = -4.06，p = .00019 (α = 5%)，双尾检验\n",
    "\n",
    "统计上存在显著差异，拒绝零假设，从而验证A版本和B版本存在显著差异。"
   ]
  },
  {
   "cell_type": "markdown",
   "metadata": {},
   "source": [
    "## 置信区间"
   ]
  },
  {
   "cell_type": "markdown",
   "metadata": {},
   "source": [
    "图片里是APA格式的置信区间：平均值的置信区间，95% CI = (a, b)"
   ]
  },
  {
   "cell_type": "code",
   "execution_count": 12,
   "metadata": {},
   "outputs": [],
   "source": [
    "'''\n",
    "1）置信水平对应的t值（t_ci）\n",
    "查t表格可以得到，95%的置信水平，自由度是n-1对应的t值\n",
    "95%的置信水平，自由度df对应的t值，可以查找t表格获取，\n",
    "也可以通过这个工具获取：https://www.graphpad.com/quickcalcs/statratio1/（利用这个工具获取t值，需要注意输入的概率值是1 - 95% = 0.05）\n",
    "2）计算上下限,\n",
    "置信区间上限a = 样本平均值 - t_ci ×标准误差\n",
    "置信区间下限b = 样本平均值 - t_ci ×标准误差\n",
    "'''\n",
    "\n",
    "t_ci = 2.0141\n",
    "\n",
    "# 样本大小n\n",
    "a_n = 25\n",
    "b_n = 25\n",
    "\n",
    "'''\n",
    "numpy.square 平方\n",
    "numpy.sqrt开方\n",
    "标准误差计算公式：\n",
    "https://en.wikipedia.org/wiki/Student%27s_t-test#Independent_two-sample_t-test\n",
    "'''\n",
    "se = np.sqrt( np.square(a_std) / a_n + np.square(b_std) / b_n )\n",
    "\n",
    "'''\n",
    "对于双独立样本检验\n",
    "置信区间的样本平均值 = A版本平均值 - B版本平均值\n",
    "'''\n",
    "sample_mean = a_mean - b_mean\n",
    "# 置信区间上限\n",
    "a = sample_mean - t_ci * se\n",
    "# 置信区间下限\n",
    "b = sample_mean + t_ci * se"
   ]
  },
  {
   "cell_type": "code",
   "execution_count": 13,
   "metadata": {},
   "outputs": [
    {
     "name": "stdout",
     "output_type": "stream",
     "text": [
      "两个平均值差值的置信区间，95置信水平 CI = [-4.070699, -1.369301]\n"
     ]
    }
   ],
   "source": [
    "print('两个平均值差值的置信区间，95置信水平 CI = [%f, %f]' %(a, b))"
   ]
  },
  {
   "cell_type": "markdown",
   "metadata": {},
   "source": [
    "置信区间是[-4.07,-1.37],平均下来，使用A键盘的错误数量要比B键盘的要少大约4到2个"
   ]
  },
  {
   "cell_type": "markdown",
   "metadata": {},
   "source": [
    "## 效应量"
   ]
  },
  {
   "cell_type": "markdown",
   "metadata": {},
   "source": [
    "为什么要给出效应量？\n",
    "\n",
    "在判断某个调查研究的结果，是否有意义或者重要时，要考虑的另一项指标是效应量。效应量太小，意味着处理即使达到了显著水平，也缺乏实用价值。\n",
    "\n",
    "所以，在假设检验中，我们给出了是否具有统计显著性，也要给出效应量，一起来判断研究结果是否有意义。\n",
    "\n",
    "效应量报告格式：d = x.xx ，R2 = .xx"
   ]
  },
  {
   "cell_type": "code",
   "execution_count": 14,
   "metadata": {},
   "outputs": [
    {
     "name": "stdout",
     "output_type": "stream",
     "text": [
      "d = -1.3204298378918027\n"
     ]
    }
   ],
   "source": [
    "'''\n",
    "效应量：差异指标Cohen's d\n",
    "这里的标准差，因为是双独立样本，需要用合并标准差（pooled standard deviations）代替\n",
    "'''\n",
    "# 合并标准差\n",
    "sp = np.sqrt(((a_n-1) * np.square(a_std) + (b_n - 1) * np.square(a_std)) / (a_n + b_n - 2))\n",
    "# 效应量Cohen's d\n",
    "d = (a_mean - b_mean) / sp\n",
    "\n",
    "print('d =', d)"
   ]
  },
  {
   "cell_type": "markdown",
   "metadata": {},
   "source": [
    "# 数据分析报告"
   ]
  },
  {
   "cell_type": "markdown",
   "metadata": {},
   "source": [
    "1、描述统计分析\n",
    "\n",
    "A版本打错字数量\n",
    "平均是5.08个，标准差是2.06个\n",
    "\n",
    "B版本打错字数量\n",
    "平均是7.8个，标准差是2.65个\n",
    "\n",
    "2、推论统计分析\n",
    "\n",
    "1）假设检验\n",
    "独立双样本t(45) = -4.06 , \n",
    "p = .00019 (α = 5%) , 双尾检验\n",
    "\n",
    "拒绝零假设，统计显著。\n",
    "\n",
    "2）置信区间\n",
    "\n",
    "两个平均值差值的置信区间，95%置信水平 CI = [-4.07, -1.37]\n",
    "\n",
    "\n",
    "3）效应量\n",
    "\n",
    "d= - 1.32，效果显著"
   ]
  }
 ],
 "metadata": {
  "kernelspec": {
   "display_name": "Python [conda env:py3]",
   "language": "python",
   "name": "conda-env-py3-py"
  },
  "language_info": {
   "codemirror_mode": {
    "name": "ipython",
    "version": 3
   },
   "file_extension": ".py",
   "mimetype": "text/x-python",
   "name": "python",
   "nbconvert_exporter": "python",
   "pygments_lexer": "ipython3",
   "version": "3.6.5"
  },
  "toc": {
   "base_numbering": 1,
   "nav_menu": {},
   "number_sections": true,
   "sideBar": false,
   "skip_h1_title": false,
   "title_cell": "Table of Contents",
   "title_sidebar": "Contents",
   "toc_cell": false,
   "toc_position": {
    "height": "303px",
    "left": "973px",
    "top": "285px",
    "width": "188px"
   },
   "toc_section_display": true,
   "toc_window_display": true
  }
 },
 "nbformat": 4,
 "nbformat_minor": 2
}
