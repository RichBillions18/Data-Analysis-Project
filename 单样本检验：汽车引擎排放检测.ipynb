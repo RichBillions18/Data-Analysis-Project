{
 "cells": [
  {
   "cell_type": "markdown",
   "metadata": {},
   "source": [
    "**背景：**\n",
    "\n",
    "“超级引擎”是一家专门生产汽车引擎的公司，根据政府发布的新排放要求，**引擎排放平均值要低于20ppm**\n",
    "（ppm是英文百万分之一的缩写）。\n",
    "\n",
    "公司抽取出10台引擎供测试使用，每一台的排放水平如下：\n",
    "\n",
    "15.6 16.2 22.5 20.5 16.4 19.4 16.6 17.9 12.7 13.9\n",
    "\n",
    "那么怎么知道，公司生产的引擎是否符合政府规定呢？"
   ]
  },
  {
   "cell_type": "markdown",
   "metadata": {},
   "source": [
    "# 描述统计分析"
   ]
  },
  {
   "cell_type": "markdown",
   "metadata": {},
   "source": [
    "我们开展调查研究并计算统计结果时，会在报告的第一部分进行描述统计分析，例如平均值和标准差。描述统计量是研究的核心。告诉我们研究中发生的情况，应该始终报告出来。"
   ]
  },
  {
   "cell_type": "code",
   "execution_count": 1,
   "metadata": {},
   "outputs": [],
   "source": [
    "# 导入包\n",
    "import pandas as pd\n",
    "import numpy as np\n",
    "import matplotlib.pyplot as plt"
   ]
  },
  {
   "cell_type": "code",
   "execution_count": 2,
   "metadata": {},
   "outputs": [],
   "source": [
    "# 样本数据集\n",
    "dataSer = pd.Series([15.6, 16.2, 22.5, 20.5, 16.4,\n",
    "                     19.4, 16.6, 17.9, 12.7, 13.9])"
   ]
  },
  {
   "cell_type": "code",
   "execution_count": 3,
   "metadata": {},
   "outputs": [
    {
     "name": "stdout",
     "output_type": "stream",
     "text": [
      "样本平均值 = 17.169999999999998 单位：ppm\n",
      "样本标准差 = 2.9814426038413018 单位：ppm\n"
     ]
    }
   ],
   "source": [
    "# 样本平均值\n",
    "sample_mean = dataSer.mean()\n",
    "'''\n",
    "数据集的标准差和样本标准差的区别：数据集的标准差公式除以的是n，样本标准差公式除以的是n-1。\n",
    "样本标准差，用途是用样本标准差估计出总体标准差，pandas计算的标准差，默认除以的是n-1，也就是计算出的是样本标准差。\n",
    "'''\n",
    "# 样本标准差\n",
    "sample_std = dataSer.std()\n",
    "\n",
    "print('样本平均值 =', sample_mean, '单位：ppm')\n",
    "print('样本标准差 =', sample_std, '单位：ppm')"
   ]
  },
  {
   "cell_type": "markdown",
   "metadata": {},
   "source": [
    "# 推论统计分析"
   ]
  },
  {
   "cell_type": "markdown",
   "metadata": {},
   "source": [
    "推论统计分析报告中包括：**假设检验，置信区间，效应量**"
   ]
  },
  {
   "cell_type": "markdown",
   "metadata": {},
   "source": [
    "## 假设检验"
   ]
  },
  {
   "cell_type": "markdown",
   "metadata": {},
   "source": [
    "### 问题是什么？"
   ]
  },
  {
   "cell_type": "markdown",
   "metadata": {},
   "source": [
    "#### 零假设和备选假设"
   ]
  },
  {
   "cell_type": "markdown",
   "metadata": {},
   "source": [
    "要研究的问题是：这些样本数据是否满足新标准呢？\n",
    "\n",
    "根据这个问题可以提出下面两个互为相反的假设：\n",
    "\n",
    "零假设H0：公司引擎排放不满足标准，也就是平均值μ>=20。这里的20是政府规定新标准的最低排放值。\n",
    "\n",
    "> 零假设总是表述为研究没有改变，没有效果，不起作用等，这里就是不满足标准。\n",
    "\n",
    "备选假设H1：公司引擎排放满足标准，也就是平均值μ<20"
   ]
  },
  {
   "cell_type": "markdown",
   "metadata": {},
   "source": [
    "#### 检验类型"
   ]
  },
  {
   "cell_type": "markdown",
   "metadata": {},
   "source": [
    "检验类型有很多种，因为这里只有1个样本，所以选择单样本检验。"
   ]
  },
  {
   "cell_type": "markdown",
   "metadata": {},
   "source": [
    "#### 抽样分布类型"
   ]
  },
  {
   "cell_type": "markdown",
   "metadata": {},
   "source": [
    "我们还要判断抽样分布是哪种类型，因为抽样分布的类型决定了后面计算p值的不同。\n",
    "\n",
    "在汽车引擎案例中，样本大小是10（小于30），属于小样本。那小样本的抽样分布是否满足t分布呢？因为t分布还要求数据集近似正态分布，所以下面图片我们看下样本数据集的分布长什么样。"
   ]
  },
  {
   "cell_type": "code",
   "execution_count": 5,
   "metadata": {},
   "outputs": [
    {
     "name": "stderr",
     "output_type": "stream",
     "text": [
      "C:\\Users\\Richard\\Anaconda3\\envs\\py3\\lib\\site-packages\\matplotlib\\axes\\_axes.py:6462: UserWarning: The 'normed' kwarg is deprecated, and has been replaced by the 'density' kwarg.\n",
      "  warnings.warn(\"The 'normed' kwarg is deprecated, and has been \"\n"
     ]
    },
    {
     "data": {
      "image/png": "[encoded data removed]",
      "text/plain": [
       "<Figure size 432x288 with 1 Axes>"
      ]
     },
     "metadata": {},
     "output_type": "display_data"
    }
   ],
   "source": [
    "import seaborn as sns\n",
    "\n",
    "# 查看数据集分布\n",
    "sns.distplot(dataSer)\n",
    "plt.title('数据集分布')\n",
    "plt.show()"
   ]
  },
  {
   "cell_type": "markdown",
   "metadata": {},
   "source": [
    "通过观察上面数据集分布图，数据集近似正态分布，满足t分布的使用条件，所以抽样分布是t分布，自由度df = n - 1 = 10 - 1 = 9。"
   ]
  },
  {
   "cell_type": "markdown",
   "metadata": {},
   "source": [
    "#### 检验方向"
   ]
  },
  {
   "cell_type": "markdown",
   "metadata": {},
   "source": [
    "单尾检验（左尾，右尾），还是双尾检验？"
   ]
  },
  {
   "cell_type": "markdown",
   "metadata": {
    "collapsed": true
   },
   "source": [
    "因为备选假设是公司引擎排放满足标准，也就是平均值μ<20，所以我们使用单尾检验中的左尾检验"
   ]
  },
  {
   "cell_type": "markdown",
   "metadata": {},
   "source": [
    "#### 总结"
   ]
  },
  {
   "cell_type": "markdown",
   "metadata": {
    "collapsed": true
   },
   "source": [
    "综合以上分析，**本次假设检验是单样本t检验，单尾检验中的左尾**。"
   ]
  },
  {
   "cell_type": "markdown",
   "metadata": {},
   "source": [
    "### 证据是什么？"
   ]
  },
  {
   "cell_type": "markdown",
   "metadata": {},
   "source": [
    "在零假设成立前提下，得到样本平均值的概率p是多少？\n",
    "\n",
    "计算p值步骤也很简单：\n",
    "\n",
    "1）计算出标准误差\n",
    "\n",
    "2）计算t值\n",
    "\n",
    "3）根据t值，查找t表格，得到概率p值"
   ]
  },
  {
   "cell_type": "code",
   "execution_count": 6,
   "metadata": {},
   "outputs": [
    {
     "name": "stdout",
     "output_type": "stream",
     "text": [
      "标准误差se = 0.9428149341201592\n",
      "t = -3.001649525885985\n"
     ]
    },
    {
     "data": {
      "text/plain": [
       "'\\n3)然后查t表，自由度df=n-1,看该t值对应的概率：p=0.0149\\n'"
      ]
     },
     "execution_count": 6,
     "metadata": {},
     "output_type": "execute_result"
    }
   ],
   "source": [
    "'''\n",
    "方法一：手动计算，熟悉过程\n",
    "1）计算标准误差\n",
    "标准误差 = 样本标准差 / (n的开方)\n",
    "'''\n",
    "n = 10\n",
    "\n",
    "se = sample_std / (np.sqrt(n))\n",
    "\n",
    "'''\n",
    "2）计算t值\n",
    "t =（样本平均值 - 总体平均值）/ 标准误差\n",
    "'''\n",
    "pop_mean = 20\n",
    "\n",
    "t = (sample_mean - pop_mean) / se\n",
    "\n",
    "print('标准误差se =', se)\n",
    "print('t =', t)\n",
    "\n",
    "'''\n",
    "3)然后查t表，自由度df = n - 1，看该t值对应的概率：p = 0.0149\n",
    "'''"
   ]
  },
  {
   "cell_type": "code",
   "execution_count": 7,
   "metadata": {},
   "outputs": [
    {
     "name": "stdout",
     "output_type": "stream",
     "text": [
      "t值 = -3.001649525885985 双尾检验的p值 = 0.014916414248897527\n"
     ]
    }
   ],
   "source": [
    "'''\n",
    "方法二：用python统计包scipy自动计算\n",
    "'''\n",
    "# 导入统计模块（stats）\n",
    "from scipy import stats\n",
    "\n",
    "# 总体平均值\n",
    "pop_mean = 20\n",
    "\n",
    "'''\n",
    "ttest_1samp：单独样本t检验\n",
    "返回的第1个值t是假设检验计算出的（t值），\n",
    "第2个值p是双尾检验的p值\n",
    "'''\n",
    "t, p_twoTail = stats.ttest_1samp(dataSer, pop_mean)\n",
    "\n",
    "print('t值 =', t, '双尾检验的p值 =', p_twoTail) "
   ]
  },
  {
   "cell_type": "code",
   "execution_count": 8,
   "metadata": {},
   "outputs": [
    {
     "name": "stdout",
     "output_type": "stream",
     "text": [
      "单尾检验的p值 = 0.0074582071244487635\n"
     ]
    }
   ],
   "source": [
    "'''\n",
    "因为scipy计算出的是双尾检验的t值和p值，但是我们这里是左尾检验。\n",
    "根据对称性，双尾的p值是对应单尾p值的2倍\n",
    "'''\n",
    "# 单尾检验的p值\n",
    "p_oneTail = p_twoTail / 2\n",
    "\n",
    "print('单尾检验的p值 =', p_oneTail)"
   ]
  },
  {
   "cell_type": "markdown",
   "metadata": {},
   "source": [
    "### 判断标准是什么？"
   ]
  },
  {
   "cell_type": "code",
   "execution_count": 9,
   "metadata": {},
   "outputs": [],
   "source": [
    "# 判断标准（显著水平）使用 alpha = 5%\n",
    "alpha = 0.05"
   ]
  },
  {
   "cell_type": "markdown",
   "metadata": {},
   "source": [
    "### 做出结论"
   ]
  },
  {
   "cell_type": "code",
   "execution_count": 10,
   "metadata": {},
   "outputs": [
    {
     "name": "stdout",
     "output_type": "stream",
     "text": [
      "拒绝零假设，有统计显著，也就是汽车引擎排放满足标准\n"
     ]
    }
   ],
   "source": [
    "'''\n",
    "左尾判断条件：t < 0 and  p < 判断标准（显著水平）alpha\n",
    "右尾判断条件：t > 0 and  p < 判断标准（显著水平）alpha\n",
    "'''\n",
    "# 做出结论\n",
    "if(t < 0 and p_oneTail < alpha): \n",
    "    print('拒绝零假设，有统计显著，也就是汽车引擎排放满足标准')\n",
    "else: \n",
    "    print('接受零假设，没有统计显著，也就是汽车引擎排放不满足标准')"
   ]
  },
  {
   "cell_type": "markdown",
   "metadata": {},
   "source": [
    "APA格式来报告假设检验的结果。\n",
    " \n",
    "假设检验结论中，需要包含以下几点信息：\n",
    "\n",
    "1）检验类型\n",
    "\n",
    "包括检验类型，抽样分布，检验方向\n",
    "\n",
    "首先执行的是哪种类型的检验？在此示例中是单样本t检验，接着在括号中写出自由度，写上等号，然后给出t值，保留两位小数。写上逗号，然后给出p值，同样保留两位小数，然后输出逗号，并指明检验方向。是单尾检验还是双尾检验。\n",
    "\n",
    "2）精确的p值\n",
    "\n",
    "然后给出p值，同样保留两位小数；\n",
    "\n",
    "3）给出检验方向\n",
    "\n",
    "例如是单尾检验还是双尾检验；\n",
    "\n",
    "4）显著性水平\n",
    "\n",
    "`独立样本t(9) = -3.00，p = .0074 (α = 5%)，单尾检验（左尾）`"
   ]
  },
  {
   "cell_type": "markdown",
   "metadata": {},
   "source": [
    "## 置信区间"
   ]
  },
  {
   "cell_type": "markdown",
   "metadata": {},
   "source": [
    "APA格式的置信区间：`单个平均值的置信区间，95% CI = (a,b)`\n",
    "\n",
    "1）置信区间的类型\n",
    "\n",
    "在这个案例里，我们是单个平均值的置信区间\n",
    "\n",
    "2）置信水平和区间的上下限\n",
    "\n",
    "置信水平（简写为CI），这里是95%的置信水平，区间 [a, b]"
   ]
  },
  {
   "cell_type": "code",
   "execution_count": 11,
   "metadata": {},
   "outputs": [],
   "source": [
    "'''\n",
    "1）置信水平对应的t值（t_ci）\n",
    "查t表格可以得到，95%的置信水平，自由度是n-1对应的t值\n",
    "2）计算上下限\n",
    "置信区间上限a = 样本平均值 - t_ci × 标准误差\n",
    "置信区间下限b = 样本平均值 - t_ci × 标准误差\n",
    "'''\n",
    "\n",
    "t_ci = 2.262\n",
    "# 使用scipy计算标准误差\n",
    "se = stats.sem(dataSer)\n",
    "# 置信区间上限\n",
    "a = sample_mean - t_ci * se\n",
    "# 置信区间下限\n",
    "b = sample_mean + t_ci * se"
   ]
  },
  {
   "cell_type": "code",
   "execution_count": 12,
   "metadata": {},
   "outputs": [
    {
     "name": "stdout",
     "output_type": "stream",
     "text": [
      "单个平均值的置信区间，95置信水平 CI = (15.037353, 19.302647)\n"
     ]
    }
   ],
   "source": [
    "print('单个平均值的置信区间，95置信水平 CI = (%f, %f)' %(a, b))"
   ]
  },
  {
   "cell_type": "markdown",
   "metadata": {},
   "source": [
    "## 效应量"
   ]
  },
  {
   "cell_type": "code",
   "execution_count": 13,
   "metadata": {},
   "outputs": [
    {
     "name": "stdout",
     "output_type": "stream",
     "text": [
      "d = -0.9492049239364257\n",
      "R2 = 0.5002748453994631\n"
     ]
    }
   ],
   "source": [
    "'''\n",
    "效应量：差异指标 Cohen's d\n",
    "'''\n",
    "d = (sample_mean - pop_mean) / sample_std\n",
    "'''\n",
    "效应量：相关度指标 R2\n",
    "'''\n",
    "# 样本大小\n",
    "n = 10\n",
    "# 自由度\n",
    "df = n - 1\n",
    "R2 = (t*t) / (t * t + df)\n",
    "\n",
    "print('d =', d)\n",
    "print('R2 =', R2)"
   ]
  },
  {
   "cell_type": "markdown",
   "metadata": {},
   "source": [
    "# 数据分析报告"
   ]
  },
  {
   "cell_type": "markdown",
   "metadata": {},
   "source": [
    "1、描述统计分析\n",
    "\n",
    "样本平均值17.17ppm，样本标准差2.98ppm\n",
    "\n",
    "2、推论统计分析\n",
    "\n",
    "1）假设检验\n",
    "\n",
    "独立样本t(9) = -3.00, p = .0074(α= 5%)，单尾检验（左尾）\n",
    "\n",
    "公司引擎排放满足标准\n",
    "\n",
    "2）置信区间\n",
    "\n",
    "单个平均值的置信区间，95% CI = (15.04, 19.30)\n",
    "\n",
    "3）效应量\n",
    "\n",
    "d = -0.95\n"
   ]
  }
 ],
 "metadata": {
  "kernelspec": {
   "display_name": "Python [conda env:py3]",
   "language": "python",
   "name": "conda-env-py3-py"
  },
  "language_info": {
   "codemirror_mode": {
    "name": "ipython",
    "version": 3
   },
   "file_extension": ".py",
   "mimetype": "text/x-python",
   "name": "python",
   "nbconvert_exporter": "python",
   "pygments_lexer": "ipython3",
   "version": "3.6.5"
  },
  "toc": {
   "base_numbering": 1,
   "nav_menu": {},
   "number_sections": true,
   "sideBar": false,
   "skip_h1_title": false,
   "title_cell": "Table of Contents",
   "title_sidebar": "Contents",
   "toc_cell": false,
   "toc_position": {
    "height": "294px",
    "left": "1082px",
    "top": "294px",
    "width": "170px"
   },
   "toc_section_display": true,
   "toc_window_display": true
  }
 },
 "nbformat": 4,
 "nbformat_minor": 2
}
