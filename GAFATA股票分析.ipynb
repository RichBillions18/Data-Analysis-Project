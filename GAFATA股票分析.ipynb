{
 "cells": [
  {
   "cell_type": "code",
   "execution_count": 1,
   "metadata": {},
   "outputs": [],
   "source": [
    "# 导入包\n",
    "import pandas as pd\n",
    "from pandas_datareader import data as pdr\n",
    "import matplotlib.pyplot as plt\n",
    "import fix_yahoo_finance as fyf\n",
    "fyf.pdr_override()"
   ]
  },
  {
   "cell_type": "code",
   "execution_count": 2,
   "metadata": {},
   "outputs": [],
   "source": [
    "'''\n",
    "获取国内股票数据的方式是：“股票代码”+“对应股市”（港股为.hk，A股为.ss）\n",
    "例如腾讯是港股：0700.hk\n",
    "'''\n",
    "# 字典：6家公司的股票映射\n",
    "gafataDict = {'谷歌':'GOOG', '亚马逊':'AMZN', 'Facebook':'FB',\n",
    "              '苹果':'AAPL', '阿里巴巴':'BABA', '腾讯':'0700.hk'}"
   ]
  },
  {
   "cell_type": "code",
   "execution_count": 3,
   "metadata": {},
   "outputs": [],
   "source": [
    "'''\n",
    "定义函数\n",
    "函数功能：计算股票涨跌幅 =（现在股价 - 买入价格）/ 买入价格\n",
    "输入参数：column是收盘价这一列的数据\n",
    "返回数据：股票涨跌幅\n",
    "'''\n",
    "def change(column):\n",
    "    # 买入价格\n",
    "    buyPrice = column[0]\n",
    "    # 现在股价\n",
    "    # column.size是总共数据条数，序号是从0开始的，所以最后一条数据的序号是总数目-1\n",
    "    curPrice = column[column.size - 1]\n",
    "    # 累计涨跌幅\n",
    "    priceChange = (curPrice - buyPrice) / buyPrice\n",
    "    # 判断股票是上涨，还是下跌\n",
    "    if(priceChange > 0):\n",
    "        print('股票累计上涨：', priceChange * 100, '%')\n",
    "    elif(priceChange < 0):\n",
    "        print('股票累计下跌：', priceChange * 100, '%')\n",
    "    else:\n",
    "        print('股票价格没有变化：', priceChange * 100, '%')\n",
    "    # 返回数据\n",
    "    return priceChange"
   ]
  },
  {
   "cell_type": "markdown",
   "metadata": {},
   "source": [
    "# 阿里巴巴"
   ]
  },
  {
   "cell_type": "code",
   "execution_count": 4,
   "metadata": {},
   "outputs": [
    {
     "name": "stdout",
     "output_type": "stream",
     "text": [
      "[*********************100%***********************]  1 of 1 downloaded\n"
     ]
    }
   ],
   "source": [
    "# 获取哪段时间范围的股票数据\n",
    "start_date = '2017-01-01'\n",
    "end_date = '2018-06-15'\n",
    "\n",
    "# 从雅虎财经数据源（get_data_yahoo）获取阿里巴巴股票数据\n",
    "babaDf = pdr.get_data_yahoo(gafataDict['阿里巴巴'], start_date, end_date)"
   ]
  },
  {
   "cell_type": "code",
   "execution_count": 5,
   "metadata": {},
   "outputs": [
    {
     "data": {
      "text/html": [
       "<div>\n",
       "<style scoped>\n",
       "    .dataframe tbody tr th:only-of-type {\n",
       "        vertical-align: middle;\n",
       "    }\n",
       "\n",
       "    .dataframe tbody tr th {\n",
       "        vertical-align: top;\n",
       "    }\n",
       "\n",
       "    .dataframe thead th {\n",
       "        text-align: right;\n",
       "    }\n",
       "</style>\n",
       "<table border=\"1\" class=\"dataframe\">\n",
       "  <thead>\n",
       "    <tr style=\"text-align: right;\">\n",
       "      <th></th>\n",
       "      <th>Open</th>\n",
       "      <th>High</th>\n",
       "      <th>Low</th>\n",
       "      <th>Close</th>\n",
       "      <th>Adj Close</th>\n",
       "      <th>Volume</th>\n",
       "    </tr>\n",
       "    <tr>\n",
       "      <th>Date</th>\n",
       "      <th></th>\n",
       "      <th></th>\n",
       "      <th></th>\n",
       "      <th></th>\n",
       "      <th></th>\n",
       "      <th></th>\n",
       "    </tr>\n",
       "  </thead>\n",
       "  <tbody>\n",
       "    <tr>\n",
       "      <th>2017-01-03</th>\n",
       "      <td>89.000000</td>\n",
       "      <td>89.000000</td>\n",
       "      <td>88.080002</td>\n",
       "      <td>88.599998</td>\n",
       "      <td>88.599998</td>\n",
       "      <td>8789400</td>\n",
       "    </tr>\n",
       "    <tr>\n",
       "      <th>2017-01-04</th>\n",
       "      <td>88.985001</td>\n",
       "      <td>90.889999</td>\n",
       "      <td>88.580002</td>\n",
       "      <td>90.510002</td>\n",
       "      <td>90.510002</td>\n",
       "      <td>11490200</td>\n",
       "    </tr>\n",
       "    <tr>\n",
       "      <th>2017-01-05</th>\n",
       "      <td>91.910004</td>\n",
       "      <td>94.809998</td>\n",
       "      <td>91.639999</td>\n",
       "      <td>94.370003</td>\n",
       "      <td>94.370003</td>\n",
       "      <td>16821500</td>\n",
       "    </tr>\n",
       "    <tr>\n",
       "      <th>2017-01-06</th>\n",
       "      <td>94.400002</td>\n",
       "      <td>94.500000</td>\n",
       "      <td>93.000000</td>\n",
       "      <td>93.889999</td>\n",
       "      <td>93.889999</td>\n",
       "      <td>7639800</td>\n",
       "    </tr>\n",
       "    <tr>\n",
       "      <th>2017-01-09</th>\n",
       "      <td>94.160004</td>\n",
       "      <td>95.650002</td>\n",
       "      <td>93.309998</td>\n",
       "      <td>94.720001</td>\n",
       "      <td>94.720001</td>\n",
       "      <td>10792900</td>\n",
       "    </tr>\n",
       "  </tbody>\n",
       "</table>\n",
       "</div>"
      ],
      "text/plain": [
       "                 Open       High        Low      Close  Adj Close    Volume\n",
       "Date                                                                       \n",
       "2017-01-03  89.000000  89.000000  88.080002  88.599998  88.599998   8789400\n",
       "2017-01-04  88.985001  90.889999  88.580002  90.510002  90.510002  11490200\n",
       "2017-01-05  91.910004  94.809998  91.639999  94.370003  94.370003  16821500\n",
       "2017-01-06  94.400002  94.500000  93.000000  93.889999  93.889999   7639800\n",
       "2017-01-09  94.160004  95.650002  93.309998  94.720001  94.720001  10792900"
      ]
     },
     "execution_count": 5,
     "metadata": {},
     "output_type": "execute_result"
    }
   ],
   "source": [
    "'''\n",
    "每日股票价位信息\n",
    "Open:开盘价\n",
    "High:最高价\n",
    "Low：最低价\n",
    "Close：收盘价\n",
    "Volume：成交量\n",
    "下面我们主要关注每日的收盘价\n",
    "'''\n",
    "# 查看前5行数据\n",
    "babaDf.head()"
   ]
  },
  {
   "cell_type": "code",
   "execution_count": 6,
   "metadata": {
    "scrolled": true
   },
   "outputs": [
    {
     "data": {
      "text/plain": [
       "DatetimeIndex(['2017-01-03', '2017-01-04', '2017-01-05', '2017-01-06',\n",
       "               '2017-01-09', '2017-01-10', '2017-01-11', '2017-01-12',\n",
       "               '2017-01-13', '2017-01-17',\n",
       "               ...\n",
       "               '2018-06-01', '2018-06-04', '2018-06-05', '2018-06-06',\n",
       "               '2018-06-07', '2018-06-08', '2018-06-11', '2018-06-12',\n",
       "               '2018-06-13', '2018-06-14'],\n",
       "              dtype='datetime64[ns]', name='Date', length=365, freq=None)"
      ]
     },
     "execution_count": 6,
     "metadata": {},
     "output_type": "execute_result"
    }
   ],
   "source": [
    "# 股票数据的行索引是时间序列类型，记录每天的股票信息\n",
    "babaDf.index"
   ]
  },
  {
   "cell_type": "code",
   "execution_count": 7,
   "metadata": {},
   "outputs": [
    {
     "name": "stdout",
     "output_type": "stream",
     "text": [
      "<class 'pandas.core.frame.DataFrame'>\n",
      "DatetimeIndex: 365 entries, 2017-01-03 to 2018-06-14\n",
      "Data columns (total 6 columns):\n",
      "Open         365 non-null float64\n",
      "High         365 non-null float64\n",
      "Low          365 non-null float64\n",
      "Close        365 non-null float64\n",
      "Adj Close    365 non-null float64\n",
      "Volume       365 non-null int32\n",
      "dtypes: float64(5), int32(1)\n",
      "memory usage: 18.5 KB\n"
     ]
    }
   ],
   "source": [
    "# 查看数据集情况\n",
    "babaDf.info()"
   ]
  },
  {
   "cell_type": "code",
   "execution_count": 8,
   "metadata": {},
   "outputs": [
    {
     "data": {
      "text/plain": [
       "Open         float64\n",
       "High         float64\n",
       "Low          float64\n",
       "Close        float64\n",
       "Adj Close    float64\n",
       "Volume         int32\n",
       "dtype: object"
      ]
     },
     "execution_count": 8,
     "metadata": {},
     "output_type": "execute_result"
    }
   ],
   "source": [
    "# 查看每一列数据类型\n",
    "babaDf.dtypes"
   ]
  },
  {
   "cell_type": "code",
   "execution_count": 9,
   "metadata": {},
   "outputs": [
    {
     "data": {
      "text/html": [
       "<div>\n",
       "<style scoped>\n",
       "    .dataframe tbody tr th:only-of-type {\n",
       "        vertical-align: middle;\n",
       "    }\n",
       "\n",
       "    .dataframe tbody tr th {\n",
       "        vertical-align: top;\n",
       "    }\n",
       "\n",
       "    .dataframe thead th {\n",
       "        text-align: right;\n",
       "    }\n",
       "</style>\n",
       "<table border=\"1\" class=\"dataframe\">\n",
       "  <thead>\n",
       "    <tr style=\"text-align: right;\">\n",
       "      <th></th>\n",
       "      <th>Open</th>\n",
       "      <th>High</th>\n",
       "      <th>Low</th>\n",
       "      <th>Close</th>\n",
       "      <th>Adj Close</th>\n",
       "      <th>Volume</th>\n",
       "    </tr>\n",
       "  </thead>\n",
       "  <tbody>\n",
       "    <tr>\n",
       "      <th>count</th>\n",
       "      <td>365.000000</td>\n",
       "      <td>365.000000</td>\n",
       "      <td>365.000000</td>\n",
       "      <td>365.000000</td>\n",
       "      <td>365.000000</td>\n",
       "      <td>3.650000e+02</td>\n",
       "    </tr>\n",
       "    <tr>\n",
       "      <th>mean</th>\n",
       "      <td>156.522682</td>\n",
       "      <td>158.188468</td>\n",
       "      <td>154.580252</td>\n",
       "      <td>156.441287</td>\n",
       "      <td>156.441287</td>\n",
       "      <td>1.665598e+07</td>\n",
       "    </tr>\n",
       "    <tr>\n",
       "      <th>std</th>\n",
       "      <td>34.782544</td>\n",
       "      <td>35.281792</td>\n",
       "      <td>34.182853</td>\n",
       "      <td>34.700980</td>\n",
       "      <td>34.700980</td>\n",
       "      <td>8.995131e+06</td>\n",
       "    </tr>\n",
       "    <tr>\n",
       "      <th>min</th>\n",
       "      <td>88.985001</td>\n",
       "      <td>89.000000</td>\n",
       "      <td>88.080002</td>\n",
       "      <td>88.599998</td>\n",
       "      <td>88.599998</td>\n",
       "      <td>4.120700e+06</td>\n",
       "    </tr>\n",
       "    <tr>\n",
       "      <th>25%</th>\n",
       "      <td>120.160004</td>\n",
       "      <td>121.489998</td>\n",
       "      <td>119.510002</td>\n",
       "      <td>120.720001</td>\n",
       "      <td>120.720001</td>\n",
       "      <td>1.078770e+07</td>\n",
       "    </tr>\n",
       "    <tr>\n",
       "      <th>50%</th>\n",
       "      <td>172.009995</td>\n",
       "      <td>173.529999</td>\n",
       "      <td>169.639999</td>\n",
       "      <td>171.750000</td>\n",
       "      <td>171.750000</td>\n",
       "      <td>1.482670e+07</td>\n",
       "    </tr>\n",
       "    <tr>\n",
       "      <th>75%</th>\n",
       "      <td>184.070007</td>\n",
       "      <td>185.845001</td>\n",
       "      <td>181.149994</td>\n",
       "      <td>183.830002</td>\n",
       "      <td>183.830002</td>\n",
       "      <td>1.975560e+07</td>\n",
       "    </tr>\n",
       "    <tr>\n",
       "      <th>max</th>\n",
       "      <td>209.949997</td>\n",
       "      <td>211.699997</td>\n",
       "      <td>207.509995</td>\n",
       "      <td>210.860001</td>\n",
       "      <td>210.860001</td>\n",
       "      <td>8.093690e+07</td>\n",
       "    </tr>\n",
       "  </tbody>\n",
       "</table>\n",
       "</div>"
      ],
      "text/plain": [
       "             Open        High         Low       Close   Adj Close  \\\n",
       "count  365.000000  365.000000  365.000000  365.000000  365.000000   \n",
       "mean   156.522682  158.188468  154.580252  156.441287  156.441287   \n",
       "std     34.782544   35.281792   34.182853   34.700980   34.700980   \n",
       "min     88.985001   89.000000   88.080002   88.599998   88.599998   \n",
       "25%    120.160004  121.489998  119.510002  120.720001  120.720001   \n",
       "50%    172.009995  173.529999  169.639999  171.750000  171.750000   \n",
       "75%    184.070007  185.845001  181.149994  183.830002  183.830002   \n",
       "max    209.949997  211.699997  207.509995  210.860001  210.860001   \n",
       "\n",
       "             Volume  \n",
       "count  3.650000e+02  \n",
       "mean   1.665598e+07  \n",
       "std    8.995131e+06  \n",
       "min    4.120700e+06  \n",
       "25%    1.078770e+07  \n",
       "50%    1.482670e+07  \n",
       "75%    1.975560e+07  \n",
       "max    8.093690e+07  "
      ]
     },
     "execution_count": 9,
     "metadata": {},
     "output_type": "execute_result"
    }
   ],
   "source": [
    "# 查看数据集描述统计信息\n",
    "babaDf.describe()"
   ]
  },
  {
   "cell_type": "code",
   "execution_count": 10,
   "metadata": {},
   "outputs": [
    {
     "name": "stdout",
     "output_type": "stream",
     "text": [
      "股票累计上涨： 137.9909771555525 %\n"
     ]
    }
   ],
   "source": [
    "'''\n",
    "计算股票涨跌幅\n",
    "'''\n",
    "# 获取收盘价Close这一列的数据\n",
    "closeCol = babaDf['Close']\n",
    "# 调用函数，获取涨跌幅\n",
    "babaChange = change(closeCol)"
   ]
  },
  {
   "cell_type": "markdown",
   "metadata": {},
   "source": [
    "---"
   ]
  },
  {
   "cell_type": "markdown",
   "metadata": {},
   "source": [
    "# 谷歌"
   ]
  },
  {
   "cell_type": "code",
   "execution_count": 11,
   "metadata": {},
   "outputs": [
    {
     "name": "stdout",
     "output_type": "stream",
     "text": [
      "[*********************100%***********************]  1 of 1 downloaded\n"
     ]
    },
    {
     "data": {
      "text/html": [
       "<div>\n",
       "<style scoped>\n",
       "    .dataframe tbody tr th:only-of-type {\n",
       "        vertical-align: middle;\n",
       "    }\n",
       "\n",
       "    .dataframe tbody tr th {\n",
       "        vertical-align: top;\n",
       "    }\n",
       "\n",
       "    .dataframe thead th {\n",
       "        text-align: right;\n",
       "    }\n",
       "</style>\n",
       "<table border=\"1\" class=\"dataframe\">\n",
       "  <thead>\n",
       "    <tr style=\"text-align: right;\">\n",
       "      <th></th>\n",
       "      <th>Open</th>\n",
       "      <th>High</th>\n",
       "      <th>Low</th>\n",
       "      <th>Close</th>\n",
       "      <th>Adj Close</th>\n",
       "      <th>Volume</th>\n",
       "    </tr>\n",
       "    <tr>\n",
       "      <th>Date</th>\n",
       "      <th></th>\n",
       "      <th></th>\n",
       "      <th></th>\n",
       "      <th></th>\n",
       "      <th></th>\n",
       "      <th></th>\n",
       "    </tr>\n",
       "  </thead>\n",
       "  <tbody>\n",
       "    <tr>\n",
       "      <th>2017-01-03</th>\n",
       "      <td>778.809998</td>\n",
       "      <td>789.630005</td>\n",
       "      <td>775.799988</td>\n",
       "      <td>786.140015</td>\n",
       "      <td>786.140015</td>\n",
       "      <td>1657300</td>\n",
       "    </tr>\n",
       "    <tr>\n",
       "      <th>2017-01-04</th>\n",
       "      <td>788.359985</td>\n",
       "      <td>791.340027</td>\n",
       "      <td>783.159973</td>\n",
       "      <td>786.900024</td>\n",
       "      <td>786.900024</td>\n",
       "      <td>1073000</td>\n",
       "    </tr>\n",
       "    <tr>\n",
       "      <th>2017-01-05</th>\n",
       "      <td>786.080017</td>\n",
       "      <td>794.479980</td>\n",
       "      <td>785.020020</td>\n",
       "      <td>794.020020</td>\n",
       "      <td>794.020020</td>\n",
       "      <td>1335200</td>\n",
       "    </tr>\n",
       "    <tr>\n",
       "      <th>2017-01-06</th>\n",
       "      <td>795.260010</td>\n",
       "      <td>807.900024</td>\n",
       "      <td>792.203979</td>\n",
       "      <td>806.150024</td>\n",
       "      <td>806.150024</td>\n",
       "      <td>1640200</td>\n",
       "    </tr>\n",
       "    <tr>\n",
       "      <th>2017-01-09</th>\n",
       "      <td>806.400024</td>\n",
       "      <td>809.966003</td>\n",
       "      <td>802.830017</td>\n",
       "      <td>806.650024</td>\n",
       "      <td>806.650024</td>\n",
       "      <td>1272400</td>\n",
       "    </tr>\n",
       "  </tbody>\n",
       "</table>\n",
       "</div>"
      ],
      "text/plain": [
       "                  Open        High         Low       Close   Adj Close  \\\n",
       "Date                                                                     \n",
       "2017-01-03  778.809998  789.630005  775.799988  786.140015  786.140015   \n",
       "2017-01-04  788.359985  791.340027  783.159973  786.900024  786.900024   \n",
       "2017-01-05  786.080017  794.479980  785.020020  794.020020  794.020020   \n",
       "2017-01-06  795.260010  807.900024  792.203979  806.150024  806.150024   \n",
       "2017-01-09  806.400024  809.966003  802.830017  806.650024  806.650024   \n",
       "\n",
       "             Volume  \n",
       "Date                 \n",
       "2017-01-03  1657300  \n",
       "2017-01-04  1073000  \n",
       "2017-01-05  1335200  \n",
       "2017-01-06  1640200  \n",
       "2017-01-09  1272400  "
      ]
     },
     "execution_count": 11,
     "metadata": {},
     "output_type": "execute_result"
    }
   ],
   "source": [
    "# 获取谷歌股票数据\n",
    "googDf = pdr.get_data_yahoo(gafataDict['谷歌'], start_date, end_date)\n",
    "\n",
    "googDf.head()"
   ]
  },
  {
   "cell_type": "code",
   "execution_count": 12,
   "metadata": {},
   "outputs": [
    {
     "name": "stdout",
     "output_type": "stream",
     "text": [
      "股票累计上涨： 46.55404546478911 %\n"
     ]
    }
   ],
   "source": [
    "'''\n",
    "计算股票涨跌幅\n",
    "'''\n",
    "# 获取收盘价Close这一列的数据\n",
    "closeCol = googDf['Close']\n",
    "# 调用函数，获取涨跌幅\n",
    "googChange = change(closeCol)"
   ]
  },
  {
   "cell_type": "markdown",
   "metadata": {},
   "source": [
    "---"
   ]
  },
  {
   "cell_type": "markdown",
   "metadata": {},
   "source": [
    "# 亚马逊"
   ]
  },
  {
   "cell_type": "code",
   "execution_count": 13,
   "metadata": {},
   "outputs": [
    {
     "name": "stdout",
     "output_type": "stream",
     "text": [
      "[*********************100%***********************]  1 of 1 downloaded\n"
     ]
    },
    {
     "data": {
      "text/html": [
       "<div>\n",
       "<style scoped>\n",
       "    .dataframe tbody tr th:only-of-type {\n",
       "        vertical-align: middle;\n",
       "    }\n",
       "\n",
       "    .dataframe tbody tr th {\n",
       "        vertical-align: top;\n",
       "    }\n",
       "\n",
       "    .dataframe thead th {\n",
       "        text-align: right;\n",
       "    }\n",
       "</style>\n",
       "<table border=\"1\" class=\"dataframe\">\n",
       "  <thead>\n",
       "    <tr style=\"text-align: right;\">\n",
       "      <th></th>\n",
       "      <th>Open</th>\n",
       "      <th>High</th>\n",
       "      <th>Low</th>\n",
       "      <th>Close</th>\n",
       "      <th>Adj Close</th>\n",
       "      <th>Volume</th>\n",
       "    </tr>\n",
       "    <tr>\n",
       "      <th>Date</th>\n",
       "      <th></th>\n",
       "      <th></th>\n",
       "      <th></th>\n",
       "      <th></th>\n",
       "      <th></th>\n",
       "      <th></th>\n",
       "    </tr>\n",
       "  </thead>\n",
       "  <tbody>\n",
       "    <tr>\n",
       "      <th>2017-01-03</th>\n",
       "      <td>757.919983</td>\n",
       "      <td>758.760010</td>\n",
       "      <td>747.700012</td>\n",
       "      <td>753.669983</td>\n",
       "      <td>753.669983</td>\n",
       "      <td>3521100</td>\n",
       "    </tr>\n",
       "    <tr>\n",
       "      <th>2017-01-04</th>\n",
       "      <td>758.390015</td>\n",
       "      <td>759.679993</td>\n",
       "      <td>754.200012</td>\n",
       "      <td>757.179993</td>\n",
       "      <td>757.179993</td>\n",
       "      <td>2510500</td>\n",
       "    </tr>\n",
       "    <tr>\n",
       "      <th>2017-01-05</th>\n",
       "      <td>761.549988</td>\n",
       "      <td>782.400024</td>\n",
       "      <td>760.260010</td>\n",
       "      <td>780.450012</td>\n",
       "      <td>780.450012</td>\n",
       "      <td>5830100</td>\n",
       "    </tr>\n",
       "    <tr>\n",
       "      <th>2017-01-06</th>\n",
       "      <td>782.359985</td>\n",
       "      <td>799.440002</td>\n",
       "      <td>778.479980</td>\n",
       "      <td>795.989990</td>\n",
       "      <td>795.989990</td>\n",
       "      <td>5986200</td>\n",
       "    </tr>\n",
       "    <tr>\n",
       "      <th>2017-01-09</th>\n",
       "      <td>798.000000</td>\n",
       "      <td>801.770020</td>\n",
       "      <td>791.770020</td>\n",
       "      <td>796.919983</td>\n",
       "      <td>796.919983</td>\n",
       "      <td>3440100</td>\n",
       "    </tr>\n",
       "  </tbody>\n",
       "</table>\n",
       "</div>"
      ],
      "text/plain": [
       "                  Open        High         Low       Close   Adj Close  \\\n",
       "Date                                                                     \n",
       "2017-01-03  757.919983  758.760010  747.700012  753.669983  753.669983   \n",
       "2017-01-04  758.390015  759.679993  754.200012  757.179993  757.179993   \n",
       "2017-01-05  761.549988  782.400024  760.260010  780.450012  780.450012   \n",
       "2017-01-06  782.359985  799.440002  778.479980  795.989990  795.989990   \n",
       "2017-01-09  798.000000  801.770020  791.770020  796.919983  796.919983   \n",
       "\n",
       "             Volume  \n",
       "Date                 \n",
       "2017-01-03  3521100  \n",
       "2017-01-04  2510500  \n",
       "2017-01-05  5830100  \n",
       "2017-01-06  5986200  \n",
       "2017-01-09  3440100  "
      ]
     },
     "execution_count": 13,
     "metadata": {},
     "output_type": "execute_result"
    }
   ],
   "source": [
    "# 获取亚马逊股票数据\n",
    "amznDf = pdr.get_data_yahoo(gafataDict['亚马逊'], start_date, end_date)\n",
    "\n",
    "amznDf.head()"
   ]
  },
  {
   "cell_type": "code",
   "execution_count": 14,
   "metadata": {},
   "outputs": [
    {
     "name": "stdout",
     "output_type": "stream",
     "text": [
      "股票累计上涨： 128.72875713294795 %\n"
     ]
    }
   ],
   "source": [
    "'''\n",
    "计算股票涨跌幅\n",
    "'''\n",
    "# 获取收盘价Close这一列的数据\n",
    "closeCol = amznDf['Close']\n",
    "# 调用函数，获取涨跌幅\n",
    "amznChange = change(closeCol)"
   ]
  },
  {
   "cell_type": "markdown",
   "metadata": {},
   "source": [
    "---"
   ]
  },
  {
   "cell_type": "markdown",
   "metadata": {},
   "source": [
    "# Facebook"
   ]
  },
  {
   "cell_type": "code",
   "execution_count": 15,
   "metadata": {},
   "outputs": [
    {
     "name": "stdout",
     "output_type": "stream",
     "text": [
      "[*********************100%***********************]  1 of 1 downloaded\n"
     ]
    },
    {
     "data": {
      "text/html": [
       "<div>\n",
       "<style scoped>\n",
       "    .dataframe tbody tr th:only-of-type {\n",
       "        vertical-align: middle;\n",
       "    }\n",
       "\n",
       "    .dataframe tbody tr th {\n",
       "        vertical-align: top;\n",
       "    }\n",
       "\n",
       "    .dataframe thead th {\n",
       "        text-align: right;\n",
       "    }\n",
       "</style>\n",
       "<table border=\"1\" class=\"dataframe\">\n",
       "  <thead>\n",
       "    <tr style=\"text-align: right;\">\n",
       "      <th></th>\n",
       "      <th>Open</th>\n",
       "      <th>High</th>\n",
       "      <th>Low</th>\n",
       "      <th>Close</th>\n",
       "      <th>Adj Close</th>\n",
       "      <th>Volume</th>\n",
       "    </tr>\n",
       "    <tr>\n",
       "      <th>Date</th>\n",
       "      <th></th>\n",
       "      <th></th>\n",
       "      <th></th>\n",
       "      <th></th>\n",
       "      <th></th>\n",
       "      <th></th>\n",
       "    </tr>\n",
       "  </thead>\n",
       "  <tbody>\n",
       "    <tr>\n",
       "      <th>2017-01-03</th>\n",
       "      <td>116.029999</td>\n",
       "      <td>117.839996</td>\n",
       "      <td>115.510002</td>\n",
       "      <td>116.860001</td>\n",
       "      <td>116.860001</td>\n",
       "      <td>20663900</td>\n",
       "    </tr>\n",
       "    <tr>\n",
       "      <th>2017-01-04</th>\n",
       "      <td>117.550003</td>\n",
       "      <td>119.660004</td>\n",
       "      <td>117.290001</td>\n",
       "      <td>118.690002</td>\n",
       "      <td>118.690002</td>\n",
       "      <td>19630900</td>\n",
       "    </tr>\n",
       "    <tr>\n",
       "      <th>2017-01-05</th>\n",
       "      <td>118.860001</td>\n",
       "      <td>120.949997</td>\n",
       "      <td>118.320000</td>\n",
       "      <td>120.669998</td>\n",
       "      <td>120.669998</td>\n",
       "      <td>19492200</td>\n",
       "    </tr>\n",
       "    <tr>\n",
       "      <th>2017-01-06</th>\n",
       "      <td>120.980003</td>\n",
       "      <td>123.879997</td>\n",
       "      <td>120.029999</td>\n",
       "      <td>123.410004</td>\n",
       "      <td>123.410004</td>\n",
       "      <td>28545300</td>\n",
       "    </tr>\n",
       "    <tr>\n",
       "      <th>2017-01-09</th>\n",
       "      <td>123.550003</td>\n",
       "      <td>125.430000</td>\n",
       "      <td>123.040001</td>\n",
       "      <td>124.900002</td>\n",
       "      <td>124.900002</td>\n",
       "      <td>22861600</td>\n",
       "    </tr>\n",
       "  </tbody>\n",
       "</table>\n",
       "</div>"
      ],
      "text/plain": [
       "                  Open        High         Low       Close   Adj Close  \\\n",
       "Date                                                                     \n",
       "2017-01-03  116.029999  117.839996  115.510002  116.860001  116.860001   \n",
       "2017-01-04  117.550003  119.660004  117.290001  118.690002  118.690002   \n",
       "2017-01-05  118.860001  120.949997  118.320000  120.669998  120.669998   \n",
       "2017-01-06  120.980003  123.879997  120.029999  123.410004  123.410004   \n",
       "2017-01-09  123.550003  125.430000  123.040001  124.900002  124.900002   \n",
       "\n",
       "              Volume  \n",
       "Date                  \n",
       "2017-01-03  20663900  \n",
       "2017-01-04  19630900  \n",
       "2017-01-05  19492200  \n",
       "2017-01-06  28545300  \n",
       "2017-01-09  22861600  "
      ]
     },
     "execution_count": 15,
     "metadata": {},
     "output_type": "execute_result"
    }
   ],
   "source": [
    "# 获取Facebook股票数据\n",
    "fbDf = pdr.get_data_yahoo(gafataDict['Facebook'], start_date, end_date)\n",
    "\n",
    "fbDf.head()"
   ]
  },
  {
   "cell_type": "code",
   "execution_count": 16,
   "metadata": {},
   "outputs": [
    {
     "name": "stdout",
     "output_type": "stream",
     "text": [
      "股票累计上涨： 68.41519451980838 %\n"
     ]
    }
   ],
   "source": [
    "'''\n",
    "计算股票涨跌幅\n",
    "'''\n",
    "# 获取收盘价Close这一列的数据\n",
    "closeCol = fbDf['Close']\n",
    "# 调用函数，获取涨跌幅\n",
    "fbChange = change(closeCol)"
   ]
  },
  {
   "cell_type": "markdown",
   "metadata": {},
   "source": [
    "---"
   ]
  },
  {
   "cell_type": "markdown",
   "metadata": {},
   "source": [
    "# 苹果"
   ]
  },
  {
   "cell_type": "code",
   "execution_count": 17,
   "metadata": {},
   "outputs": [
    {
     "name": "stdout",
     "output_type": "stream",
     "text": [
      "[*********************100%***********************]  1 of 1 downloaded\n"
     ]
    },
    {
     "data": {
      "text/html": [
       "<div>\n",
       "<style scoped>\n",
       "    .dataframe tbody tr th:only-of-type {\n",
       "        vertical-align: middle;\n",
       "    }\n",
       "\n",
       "    .dataframe tbody tr th {\n",
       "        vertical-align: top;\n",
       "    }\n",
       "\n",
       "    .dataframe thead th {\n",
       "        text-align: right;\n",
       "    }\n",
       "</style>\n",
       "<table border=\"1\" class=\"dataframe\">\n",
       "  <thead>\n",
       "    <tr style=\"text-align: right;\">\n",
       "      <th></th>\n",
       "      <th>Open</th>\n",
       "      <th>High</th>\n",
       "      <th>Low</th>\n",
       "      <th>Close</th>\n",
       "      <th>Adj Close</th>\n",
       "      <th>Volume</th>\n",
       "    </tr>\n",
       "    <tr>\n",
       "      <th>Date</th>\n",
       "      <th></th>\n",
       "      <th></th>\n",
       "      <th></th>\n",
       "      <th></th>\n",
       "      <th></th>\n",
       "      <th></th>\n",
       "    </tr>\n",
       "  </thead>\n",
       "  <tbody>\n",
       "    <tr>\n",
       "      <th>2017-01-03</th>\n",
       "      <td>115.800003</td>\n",
       "      <td>116.330002</td>\n",
       "      <td>114.760002</td>\n",
       "      <td>116.150002</td>\n",
       "      <td>113.410263</td>\n",
       "      <td>28781900</td>\n",
       "    </tr>\n",
       "    <tr>\n",
       "      <th>2017-01-04</th>\n",
       "      <td>115.849998</td>\n",
       "      <td>116.510002</td>\n",
       "      <td>115.750000</td>\n",
       "      <td>116.019997</td>\n",
       "      <td>113.283333</td>\n",
       "      <td>21118100</td>\n",
       "    </tr>\n",
       "    <tr>\n",
       "      <th>2017-01-05</th>\n",
       "      <td>115.919998</td>\n",
       "      <td>116.860001</td>\n",
       "      <td>115.809998</td>\n",
       "      <td>116.610001</td>\n",
       "      <td>113.859421</td>\n",
       "      <td>22193600</td>\n",
       "    </tr>\n",
       "    <tr>\n",
       "      <th>2017-01-06</th>\n",
       "      <td>116.779999</td>\n",
       "      <td>118.160004</td>\n",
       "      <td>116.470001</td>\n",
       "      <td>117.910004</td>\n",
       "      <td>115.128761</td>\n",
       "      <td>31751900</td>\n",
       "    </tr>\n",
       "    <tr>\n",
       "      <th>2017-01-09</th>\n",
       "      <td>117.949997</td>\n",
       "      <td>119.430000</td>\n",
       "      <td>117.940002</td>\n",
       "      <td>118.989998</td>\n",
       "      <td>116.183273</td>\n",
       "      <td>33561900</td>\n",
       "    </tr>\n",
       "  </tbody>\n",
       "</table>\n",
       "</div>"
      ],
      "text/plain": [
       "                  Open        High         Low       Close   Adj Close  \\\n",
       "Date                                                                     \n",
       "2017-01-03  115.800003  116.330002  114.760002  116.150002  113.410263   \n",
       "2017-01-04  115.849998  116.510002  115.750000  116.019997  113.283333   \n",
       "2017-01-05  115.919998  116.860001  115.809998  116.610001  113.859421   \n",
       "2017-01-06  116.779999  118.160004  116.470001  117.910004  115.128761   \n",
       "2017-01-09  117.949997  119.430000  117.940002  118.989998  116.183273   \n",
       "\n",
       "              Volume  \n",
       "Date                  \n",
       "2017-01-03  28781900  \n",
       "2017-01-04  21118100  \n",
       "2017-01-05  22193600  \n",
       "2017-01-06  31751900  \n",
       "2017-01-09  33561900  "
      ]
     },
     "execution_count": 17,
     "metadata": {},
     "output_type": "execute_result"
    }
   ],
   "source": [
    "# 获取苹果股票数据\n",
    "aaplDf = pdr.get_data_yahoo(gafataDict['苹果'], start_date, end_date)\n",
    "\n",
    "aaplDf.head()"
   ]
  },
  {
   "cell_type": "code",
   "execution_count": 18,
   "metadata": {},
   "outputs": [
    {
     "name": "stdout",
     "output_type": "stream",
     "text": [
      "股票累计上涨： 64.27033983176341 %\n"
     ]
    }
   ],
   "source": [
    "'''\n",
    "累计涨幅\n",
    "'''\n",
    "# 获取收盘价Close这一列的数据\n",
    "closeCol = aaplDf['Close']\n",
    "# 调用函数，获取涨跌幅\n",
    "aaplChange = change(closeCol)"
   ]
  },
  {
   "cell_type": "markdown",
   "metadata": {},
   "source": [
    "---"
   ]
  },
  {
   "cell_type": "markdown",
   "metadata": {},
   "source": [
    "# 腾讯"
   ]
  },
  {
   "cell_type": "code",
   "execution_count": 20,
   "metadata": {},
   "outputs": [
    {
     "name": "stdout",
     "output_type": "stream",
     "text": [
      "[*********************100%***********************]  1 of 1 downloaded\n"
     ]
    },
    {
     "data": {
      "text/html": [
       "<div>\n",
       "<style scoped>\n",
       "    .dataframe tbody tr th:only-of-type {\n",
       "        vertical-align: middle;\n",
       "    }\n",
       "\n",
       "    .dataframe tbody tr th {\n",
       "        vertical-align: top;\n",
       "    }\n",
       "\n",
       "    .dataframe thead th {\n",
       "        text-align: right;\n",
       "    }\n",
       "</style>\n",
       "<table border=\"1\" class=\"dataframe\">\n",
       "  <thead>\n",
       "    <tr style=\"text-align: right;\">\n",
       "      <th></th>\n",
       "      <th>Open</th>\n",
       "      <th>High</th>\n",
       "      <th>Low</th>\n",
       "      <th>Close</th>\n",
       "      <th>Adj Close</th>\n",
       "      <th>Volume</th>\n",
       "    </tr>\n",
       "    <tr>\n",
       "      <th>Date</th>\n",
       "      <th></th>\n",
       "      <th></th>\n",
       "      <th></th>\n",
       "      <th></th>\n",
       "      <th></th>\n",
       "      <th></th>\n",
       "    </tr>\n",
       "  </thead>\n",
       "  <tbody>\n",
       "    <tr>\n",
       "      <th>2017-01-03</th>\n",
       "      <td>188.000000</td>\n",
       "      <td>191.100006</td>\n",
       "      <td>188.000000</td>\n",
       "      <td>189.399994</td>\n",
       "      <td>188.557770</td>\n",
       "      <td>9637272</td>\n",
       "    </tr>\n",
       "    <tr>\n",
       "      <th>2017-01-04</th>\n",
       "      <td>190.399994</td>\n",
       "      <td>190.500000</td>\n",
       "      <td>188.100006</td>\n",
       "      <td>189.000000</td>\n",
       "      <td>188.159561</td>\n",
       "      <td>11411490</td>\n",
       "    </tr>\n",
       "    <tr>\n",
       "      <th>2017-01-05</th>\n",
       "      <td>191.000000</td>\n",
       "      <td>194.199997</td>\n",
       "      <td>190.699997</td>\n",
       "      <td>193.300003</td>\n",
       "      <td>192.440445</td>\n",
       "      <td>20543005</td>\n",
       "    </tr>\n",
       "    <tr>\n",
       "      <th>2017-01-06</th>\n",
       "      <td>196.199997</td>\n",
       "      <td>196.800003</td>\n",
       "      <td>194.699997</td>\n",
       "      <td>195.100006</td>\n",
       "      <td>194.232437</td>\n",
       "      <td>20077760</td>\n",
       "    </tr>\n",
       "    <tr>\n",
       "      <th>2017-01-09</th>\n",
       "      <td>196.699997</td>\n",
       "      <td>196.899994</td>\n",
       "      <td>195.199997</td>\n",
       "      <td>195.600006</td>\n",
       "      <td>194.730209</td>\n",
       "      <td>13605277</td>\n",
       "    </tr>\n",
       "  </tbody>\n",
       "</table>\n",
       "</div>"
      ],
      "text/plain": [
       "                  Open        High         Low       Close   Adj Close  \\\n",
       "Date                                                                     \n",
       "2017-01-03  188.000000  191.100006  188.000000  189.399994  188.557770   \n",
       "2017-01-04  190.399994  190.500000  188.100006  189.000000  188.159561   \n",
       "2017-01-05  191.000000  194.199997  190.699997  193.300003  192.440445   \n",
       "2017-01-06  196.199997  196.800003  194.699997  195.100006  194.232437   \n",
       "2017-01-09  196.699997  196.899994  195.199997  195.600006  194.730209   \n",
       "\n",
       "              Volume  \n",
       "Date                  \n",
       "2017-01-03   9637272  \n",
       "2017-01-04  11411490  \n",
       "2017-01-05  20543005  \n",
       "2017-01-06  20077760  \n",
       "2017-01-09  13605277  "
      ]
     },
     "execution_count": 20,
     "metadata": {},
     "output_type": "execute_result"
    }
   ],
   "source": [
    "# 获取腾讯股票数据\n",
    "txDf = pdr.get_data_yahoo(gafataDict['腾讯'], start_date, end_date)\n",
    "\n",
    "txDf.head()"
   ]
  },
  {
   "cell_type": "code",
   "execution_count": 21,
   "metadata": {},
   "outputs": [
    {
     "data": {
      "text/html": [
       "<div>\n",
       "<style scoped>\n",
       "    .dataframe tbody tr th:only-of-type {\n",
       "        vertical-align: middle;\n",
       "    }\n",
       "\n",
       "    .dataframe tbody tr th {\n",
       "        vertical-align: top;\n",
       "    }\n",
       "\n",
       "    .dataframe thead th {\n",
       "        text-align: right;\n",
       "    }\n",
       "</style>\n",
       "<table border=\"1\" class=\"dataframe\">\n",
       "  <thead>\n",
       "    <tr style=\"text-align: right;\">\n",
       "      <th></th>\n",
       "      <th>Open</th>\n",
       "      <th>High</th>\n",
       "      <th>Low</th>\n",
       "      <th>Close</th>\n",
       "      <th>Adj Close</th>\n",
       "      <th>Volume</th>\n",
       "      <th>Close_dollar</th>\n",
       "    </tr>\n",
       "    <tr>\n",
       "      <th>Date</th>\n",
       "      <th></th>\n",
       "      <th></th>\n",
       "      <th></th>\n",
       "      <th></th>\n",
       "      <th></th>\n",
       "      <th></th>\n",
       "      <th></th>\n",
       "    </tr>\n",
       "  </thead>\n",
       "  <tbody>\n",
       "    <tr>\n",
       "      <th>2017-01-03</th>\n",
       "      <td>188.000000</td>\n",
       "      <td>191.100006</td>\n",
       "      <td>188.000000</td>\n",
       "      <td>189.399994</td>\n",
       "      <td>188.557770</td>\n",
       "      <td>9637272</td>\n",
       "      <td>24.148499</td>\n",
       "    </tr>\n",
       "    <tr>\n",
       "      <th>2017-01-04</th>\n",
       "      <td>190.399994</td>\n",
       "      <td>190.500000</td>\n",
       "      <td>188.100006</td>\n",
       "      <td>189.000000</td>\n",
       "      <td>188.159561</td>\n",
       "      <td>11411490</td>\n",
       "      <td>24.097500</td>\n",
       "    </tr>\n",
       "    <tr>\n",
       "      <th>2017-01-05</th>\n",
       "      <td>191.000000</td>\n",
       "      <td>194.199997</td>\n",
       "      <td>190.699997</td>\n",
       "      <td>193.300003</td>\n",
       "      <td>192.440445</td>\n",
       "      <td>20543005</td>\n",
       "      <td>24.645750</td>\n",
       "    </tr>\n",
       "    <tr>\n",
       "      <th>2017-01-06</th>\n",
       "      <td>196.199997</td>\n",
       "      <td>196.800003</td>\n",
       "      <td>194.699997</td>\n",
       "      <td>195.100006</td>\n",
       "      <td>194.232437</td>\n",
       "      <td>20077760</td>\n",
       "      <td>24.875251</td>\n",
       "    </tr>\n",
       "    <tr>\n",
       "      <th>2017-01-09</th>\n",
       "      <td>196.699997</td>\n",
       "      <td>196.899994</td>\n",
       "      <td>195.199997</td>\n",
       "      <td>195.600006</td>\n",
       "      <td>194.730209</td>\n",
       "      <td>13605277</td>\n",
       "      <td>24.939001</td>\n",
       "    </tr>\n",
       "  </tbody>\n",
       "</table>\n",
       "</div>"
      ],
      "text/plain": [
       "                  Open        High         Low       Close   Adj Close  \\\n",
       "Date                                                                     \n",
       "2017-01-03  188.000000  191.100006  188.000000  189.399994  188.557770   \n",
       "2017-01-04  190.399994  190.500000  188.100006  189.000000  188.159561   \n",
       "2017-01-05  191.000000  194.199997  190.699997  193.300003  192.440445   \n",
       "2017-01-06  196.199997  196.800003  194.699997  195.100006  194.232437   \n",
       "2017-01-09  196.699997  196.899994  195.199997  195.600006  194.730209   \n",
       "\n",
       "              Volume  Close_dollar  \n",
       "Date                                \n",
       "2017-01-03   9637272     24.148499  \n",
       "2017-01-04  11411490     24.097500  \n",
       "2017-01-05  20543005     24.645750  \n",
       "2017-01-06  20077760     24.875251  \n",
       "2017-01-09  13605277     24.939001  "
      ]
     },
     "execution_count": 21,
     "metadata": {},
     "output_type": "execute_result"
    }
   ],
   "source": [
    "# 腾讯是港股，所以这里的收盘价是港币，按照今天的汇率将其转化为美元\n",
    "exchange = 0.1275  # 港币兑换美元的汇率，这个值可以在网上查到当天的最新汇率\n",
    "# 为了方便后期多家公司的股价比较，增加新的一列收盘价（美元）\n",
    "txDf['Close_dollar'] = txDf['Close'] * exchange\n",
    "\n",
    "txDf.head()"
   ]
  },
  {
   "cell_type": "code",
   "execution_count": 22,
   "metadata": {},
   "outputs": [
    {
     "name": "stdout",
     "output_type": "stream",
     "text": [
      "股票累计上涨： 116.47307971931615 %\n"
     ]
    }
   ],
   "source": [
    "'''\n",
    "计算股票涨跌幅\n",
    "'''\n",
    "# 获取收盘价Close这一列的数据\n",
    "closeCol = txDf['Close']\n",
    "# 调用函数，获取涨跌幅\n",
    "txChange = change(closeCol)"
   ]
  },
  {
   "cell_type": "markdown",
   "metadata": {},
   "source": [
    "---"
   ]
  },
  {
   "cell_type": "markdown",
   "metadata": {},
   "source": [
    "# 数据可视化"
   ]
  },
  {
   "cell_type": "code",
   "execution_count": 19,
   "metadata": {},
   "outputs": [],
   "source": [
    "%matplotlib inline"
   ]
  },
  {
   "cell_type": "markdown",
   "metadata": {},
   "source": [
    "## 折线图：GAFATA股价走势比较"
   ]
  },
  {
   "cell_type": "code",
   "execution_count": 23,
   "metadata": {},
   "outputs": [
    {
     "data": {
      "image/png": "[encoded data removed]",
      "text/plain": [
       "<Figure size 432x288 with 1 Axes>"
      ]
     },
     "metadata": {},
     "output_type": "display_data"
    }
   ],
   "source": [
    "# 绘制谷歌的画纸1\n",
    "ax1 = googDf.plot(x=googDf.index, y='Close', label='谷歌')\n",
    "# 通过指定画纸ax，在同一张画纸上绘图\n",
    "# 亚马逊\n",
    "amznDf.plot(ax=ax1, x=amznDf.index, y='Close', label='亚马逊')\n",
    "# Facebook\n",
    "fbDf.plot(ax=ax1, x=fbDf.index, y='Close', label='Facebook')\n",
    "# 苹果\n",
    "aaplDf.plot(ax=ax1, x=aaplDf.index, y='Close', label='苹果')\n",
    "# 腾讯\n",
    "txDf.plot(ax=ax1, x=txDf.index, y='Close_dollar', label='腾讯')\n",
    "# 阿里巴巴\n",
    "babaDf.plot(ax=ax1, x=babaDf.index, y='Close', label='阿里巴巴')\n",
    "# x坐标轴文本\n",
    "plt.xlabel('时间')\n",
    "# y坐标轴文本\n",
    "plt.ylabel('股价（美元）')\n",
    "# 图片标题\n",
    "plt.title('2017年至今GAFATA股价走势比较')\n",
    "# 显示网格\n",
    "plt.grid(True)"
   ]
  },
  {
   "cell_type": "markdown",
   "metadata": {},
   "source": [
    "因为谷歌和亚马逊的股价比较高，造成我们看不出其他4家公司的股票走势。\n",
    "\n",
    "所以根据股价我们可以将这6家公司分成2组，一组是股价较高的谷歌和亚马逊。另外一组是股价较低的4家公司。"
   ]
  },
  {
   "cell_type": "code",
   "execution_count": 26,
   "metadata": {},
   "outputs": [
    {
     "data": {
      "image/png": "[encoded data removed]",
      "text/plain": [
       "<Figure size 432x288 with 1 Axes>"
      ]
     },
     "metadata": {},
     "output_type": "display_data"
    }
   ],
   "source": [
    "'''\n",
    "第1组：谷歌、亚马逊\n",
    "'''\n",
    "# 绘制谷歌的画纸2\n",
    "ax2 = googDf.plot(x=googDf.index, y='Close', label='谷歌')\n",
    "# 通过指定画纸ax，在同一张画纸上绘图\n",
    "# 亚马逊\n",
    "amznDf.plot(ax=ax2, x=amznDf.index, y='Close', label='亚马逊')\n",
    "# x坐标轴文本\n",
    "plt.xlabel('时间')\n",
    "# y坐标轴文本\n",
    "plt.ylabel('股价（美元）')\n",
    "# 图片标题\n",
    "plt.title('2017年至今谷歌、亚马逊股价走势比较')\n",
    "# 显示网格\n",
    "plt.grid(True)"
   ]
  },
  {
   "cell_type": "code",
   "execution_count": 29,
   "metadata": {},
   "outputs": [
    {
     "data": {
      "image/png": "[encoded data removed]",
      "text/plain": [
       "<Figure size 432x288 with 1 Axes>"
      ]
     },
     "metadata": {},
     "output_type": "display_data"
    }
   ],
   "source": [
    "'''\n",
    "第2组：Facebook、苹果、腾讯、阿里巴巴\n",
    "'''\n",
    "# 绘制Facebook的画纸3\n",
    "# 通过指定画纸ax，在同一张画纸上绘图\n",
    "# Facebook\n",
    "ax3 = fbDf.plot(x=fbDf.index, y='Close', label='Facebook')\n",
    "# 苹果\n",
    "aaplDf.plot(ax=ax3, x=aaplDf.index, y='Close', label='苹果')\n",
    "# 腾讯\n",
    "txDf.plot(ax=ax3, x=txDf.index, y='Close_dollar', label='腾讯')\n",
    "# 阿里巴巴\n",
    "babaDf.plot(ax=ax3, x=babaDf.index, y='Close', label='阿里巴巴')\n",
    "# x坐标轴文本\n",
    "plt.xlabel('时间')\n",
    "# y坐标轴文本\n",
    "plt.ylabel('股价（美元）')\n",
    "# 图片标题\n",
    "plt.title('2017年至今Facebook、苹果、腾讯、阿里巴巴股价走势比较')\n",
    "# 显示网格\n",
    "plt.grid(True)"
   ]
  },
  {
   "cell_type": "markdown",
   "metadata": {},
   "source": [
    "## 柱状图：GAFATA股票的平均值"
   ]
  },
  {
   "cell_type": "code",
   "execution_count": 30,
   "metadata": {},
   "outputs": [
    {
     "data": {
      "image/png": "[encoded data removed]",
      "text/plain": [
       "<Figure size 432x288 with 1 Axes>"
      ]
     },
     "metadata": {},
     "output_type": "display_data"
    }
   ],
   "source": [
    "# 6家公司股票收盘价平均值\n",
    "gafataMeanList = [googDf['Close'].mean(),\n",
    "                  amznDf['Close'].mean(),\n",
    "                  fbDf['Close'].mean(),\n",
    "                  aaplDf['Close'].mean(),\n",
    "                  txDf['Close_dollar'].mean(),\n",
    "                  babaDf['Close'].mean()]\n",
    "# 创建pandas一维数组Series\n",
    "gafataMeanSer = pd.Series(gafataMeanList,\n",
    "                          index=['谷歌',\n",
    "                                 '亚马逊',\n",
    "                                 'Facebook',\n",
    "                                 '苹果',\n",
    "                                 '腾讯',\n",
    "                                 '阿里巴巴'])\n",
    "gafataMeanSer.plot(kind='bar', label='GAFATA')\n",
    "# 图片标题\n",
    "plt.title('2017年至今GAFATA股价平均值')\n",
    "# x坐标轴文本\n",
    "plt.xlabel('公司名称')\n",
    "# y坐标轴文本\n",
    "plt.ylabel('股价平均值（美元）')\n",
    "# 显示网格\n",
    "plt.grid(True)"
   ]
  },
  {
   "cell_type": "markdown",
   "metadata": {},
   "source": [
    "**分析结果**：可以看出，仅从股票价格上来判断，亚马逊和谷歌的股票价格要远远的超过了其他四家。但是这里只是算的平均值，下面我们看下用四分位数绘制的箱线图"
   ]
  },
  {
   "cell_type": "markdown",
   "metadata": {},
   "source": [
    "## 箱线图：GAFATA收盘价变化情况"
   ]
  },
  {
   "cell_type": "code",
   "execution_count": 31,
   "metadata": {},
   "outputs": [
    {
     "data": {
      "text/html": [
       "<div>\n",
       "<style scoped>\n",
       "    .dataframe tbody tr th:only-of-type {\n",
       "        vertical-align: middle;\n",
       "    }\n",
       "\n",
       "    .dataframe tbody tr th {\n",
       "        vertical-align: top;\n",
       "    }\n",
       "\n",
       "    .dataframe thead th {\n",
       "        text-align: right;\n",
       "    }\n",
       "</style>\n",
       "<table border=\"1\" class=\"dataframe\">\n",
       "  <thead>\n",
       "    <tr style=\"text-align: right;\">\n",
       "      <th></th>\n",
       "      <th>谷歌</th>\n",
       "      <th>亚马逊</th>\n",
       "      <th>Facebook</th>\n",
       "      <th>苹果</th>\n",
       "      <th>腾讯</th>\n",
       "      <th>阿里巴巴</th>\n",
       "    </tr>\n",
       "    <tr>\n",
       "      <th>Date</th>\n",
       "      <th></th>\n",
       "      <th></th>\n",
       "      <th></th>\n",
       "      <th></th>\n",
       "      <th></th>\n",
       "      <th></th>\n",
       "    </tr>\n",
       "  </thead>\n",
       "  <tbody>\n",
       "    <tr>\n",
       "      <th>2017-01-03</th>\n",
       "      <td>786.140015</td>\n",
       "      <td>753.669983</td>\n",
       "      <td>116.860001</td>\n",
       "      <td>116.150002</td>\n",
       "      <td>24.148499</td>\n",
       "      <td>88.599998</td>\n",
       "    </tr>\n",
       "    <tr>\n",
       "      <th>2017-01-04</th>\n",
       "      <td>786.900024</td>\n",
       "      <td>757.179993</td>\n",
       "      <td>118.690002</td>\n",
       "      <td>116.019997</td>\n",
       "      <td>24.097500</td>\n",
       "      <td>90.510002</td>\n",
       "    </tr>\n",
       "    <tr>\n",
       "      <th>2017-01-05</th>\n",
       "      <td>794.020020</td>\n",
       "      <td>780.450012</td>\n",
       "      <td>120.669998</td>\n",
       "      <td>116.610001</td>\n",
       "      <td>24.645750</td>\n",
       "      <td>94.370003</td>\n",
       "    </tr>\n",
       "    <tr>\n",
       "      <th>2017-01-06</th>\n",
       "      <td>806.150024</td>\n",
       "      <td>795.989990</td>\n",
       "      <td>123.410004</td>\n",
       "      <td>117.910004</td>\n",
       "      <td>24.875251</td>\n",
       "      <td>93.889999</td>\n",
       "    </tr>\n",
       "    <tr>\n",
       "      <th>2017-01-09</th>\n",
       "      <td>806.650024</td>\n",
       "      <td>796.919983</td>\n",
       "      <td>124.900002</td>\n",
       "      <td>118.989998</td>\n",
       "      <td>24.939001</td>\n",
       "      <td>94.720001</td>\n",
       "    </tr>\n",
       "  </tbody>\n",
       "</table>\n",
       "</div>"
      ],
      "text/plain": [
       "                    谷歌         亚马逊    Facebook          苹果         腾讯  \\\n",
       "Date                                                                    \n",
       "2017-01-03  786.140015  753.669983  116.860001  116.150002  24.148499   \n",
       "2017-01-04  786.900024  757.179993  118.690002  116.019997  24.097500   \n",
       "2017-01-05  794.020020  780.450012  120.669998  116.610001  24.645750   \n",
       "2017-01-06  806.150024  795.989990  123.410004  117.910004  24.875251   \n",
       "2017-01-09  806.650024  796.919983  124.900002  118.989998  24.939001   \n",
       "\n",
       "                 阿里巴巴  \n",
       "Date                   \n",
       "2017-01-03  88.599998  \n",
       "2017-01-04  90.510002  \n",
       "2017-01-05  94.370003  \n",
       "2017-01-06  93.889999  \n",
       "2017-01-09  94.720001  "
      ]
     },
     "execution_count": 31,
     "metadata": {},
     "output_type": "execute_result"
    }
   ],
   "source": [
    "# 存放6家公司的收盘价\n",
    "closeDf = pd.DataFrame()\n",
    "# 合并6家公司的收盘价\n",
    "closeDf = pd.concat([closeDf,\n",
    "                     googDf['Close'],\n",
    "                     amznDf['Close'],\n",
    "                     fbDf['Close'],\n",
    "                     aaplDf['Close'],\n",
    "                     txDf['Close_dollar'],\n",
    "                     babaDf['Close']\n",
    "                    ], axis=1)\n",
    "# 重命名列名为公司名称\n",
    "closeDf.columns = ['谷歌', '亚马逊', 'Facebook', '苹果', '腾讯', '阿里巴巴']\n",
    "\n",
    "closeDf.head()"
   ]
  },
  {
   "cell_type": "code",
   "execution_count": 35,
   "metadata": {},
   "outputs": [
    {
     "data": {
      "image/png": "[encoded data removed]",
      "text/plain": [
       "<Figure size 432x288 with 1 Axes>"
      ]
     },
     "metadata": {},
     "output_type": "display_data"
    }
   ],
   "source": [
    "# 箱线图\n",
    "closeDf.plot(kind='box')\n",
    "plt.title('2017年至今GAFATA收盘价箱线图')\n",
    "plt.xlabel('公司名称')\n",
    "plt.ylabel('股价（美元）')\n",
    "plt.grid(True)"
   ]
  },
  {
   "cell_type": "markdown",
   "metadata": {},
   "source": [
    "---"
   ]
  },
  {
   "cell_type": "markdown",
   "metadata": {},
   "source": [
    "# 获取特定公司股票信息"
   ]
  },
  {
   "cell_type": "code",
   "execution_count": 36,
   "metadata": {},
   "outputs": [],
   "source": [
    "def stockmap(Companyname):\n",
    "    import pandas as pd\n",
    "    from pandas_datareader import data as pdr\n",
    "    import fix_yahoo_finance as fyf\n",
    "    import matplotlib.pyplot as plt\n",
    "    fyf.pdr_override()\n",
    "    \n",
    "    start_date = '2018-01-01'\n",
    "    end_date = '2018-06-15'\n",
    "    \n",
    "    companyDict = {'特斯拉':'TSLA','谷歌':'GOOG','亚马逊':'AMZN','Facebook':'FB',\n",
    "                   '苹果':'AAPL','阿里巴巴':'BABA','腾讯':'0700.hk'}\n",
    "    \n",
    "    companyDf = pdr.get_data_yahoo(companyDict[Companyname], start_date, end_date)\n",
    "    \n",
    "    companyDf.plot(x=companyDf.index, y='Close')\n",
    "    plt.title(companyDict[Companyname])\n",
    "    plt.grid(True)\n",
    "    plt.show()\n",
    "    \n",
    "    return Companyname"
   ]
  },
  {
   "cell_type": "code",
   "execution_count": 37,
   "metadata": {},
   "outputs": [
    {
     "name": "stdout",
     "output_type": "stream",
     "text": [
      "请输入一个公司中文名称\n",
      "特斯拉\n",
      "[*********************100%***********************]  1 of 1 downloaded\n"
     ]
    },
    {
     "data": {
      "image/png": "[encoded data removed]",
      "text/plain": [
       "<Figure size 432x288 with 1 Axes>"
      ]
     },
     "metadata": {},
     "output_type": "display_data"
    },
    {
     "data": {
      "text/plain": [
       "'特斯拉'"
      ]
     },
     "execution_count": 37,
     "metadata": {},
     "output_type": "execute_result"
    }
   ],
   "source": [
    "# 特斯拉\n",
    "companyname = input('请输入一个公司中文名称\\n')\n",
    "stockmap(companyname) "
   ]
  }
 ],
 "metadata": {
  "kernelspec": {
   "display_name": "Python [conda env:py3]",
   "language": "python",
   "name": "conda-env-py3-py"
  },
  "language_info": {
   "codemirror_mode": {
    "name": "ipython",
    "version": 3
   },
   "file_extension": ".py",
   "mimetype": "text/x-python",
   "name": "python",
   "nbconvert_exporter": "python",
   "pygments_lexer": "ipython3",
   "version": "3.6.5"
  },
  "toc": {
   "base_numbering": 1,
   "nav_menu": {},
   "number_sections": false,
   "sideBar": false,
   "skip_h1_title": false,
   "title_cell": "Table of Contents",
   "title_sidebar": "Contents",
   "toc_cell": false,
   "toc_position": {
    "height": "270px",
    "left": "1015px",
    "top": "318px",
    "width": "165px"
   },
   "toc_section_display": true,
   "toc_window_display": true
  }
 },
 "nbformat": 4,
 "nbformat_minor": 2
}
